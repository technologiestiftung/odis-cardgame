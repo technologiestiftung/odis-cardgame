{
 "cells": [
  {
   "cell_type": "code",
   "execution_count": 4,
   "metadata": {},
   "outputs": [
    {
     "data": {
      "text/plain": [
       "'\\n------------------------------------------------------------------------------\\nAbout\\n\\n------------------------------------------------------------------------------\\n'"
      ]
     },
     "execution_count": 4,
     "metadata": {},
     "output_type": "execute_result"
    }
   ],
   "source": [
    "\"\"\"\n",
    "------------------------------------------------------------------------------\n",
    "About\n",
    "\n",
    "------------------------------------------------------------------------------\n",
    "\"\"\"\n",
    "\n"
   ]
  },
  {
   "cell_type": "code",
   "execution_count": 5,
   "metadata": {},
   "outputs": [],
   "source": [
    "\"\"\"\n",
    "------------------------------------------------------------------------------\n",
    "Libraries\n",
    "------------------------------------------------------------------------------\n",
    "\"\"\"\n",
    "\n",
    "import pandas as pd\n",
    "import geopandas as gpd\n",
    "\n",
    "import matplotlib.pyplot as plt"
   ]
  },
  {
   "cell_type": "code",
   "execution_count": 6,
   "metadata": {},
   "outputs": [],
   "source": [
    "\"\"\"\n",
    "------------------------------------------------------------------------------\n",
    "Import data\n",
    "------------------------------------------------------------------------------\n",
    "\"\"\"\n",
    "\n",
    "admin_areas = gpd.read_file(\"../data/raw/Prognoseräume.json\")"
   ]
  },
  {
   "cell_type": "code",
   "execution_count": 7,
   "metadata": {},
   "outputs": [
    {
     "data": {
      "text/html": [
       "<div>\n",
       "<style scoped>\n",
       "    .dataframe tbody tr th:only-of-type {\n",
       "        vertical-align: middle;\n",
       "    }\n",
       "\n",
       "    .dataframe tbody tr th {\n",
       "        vertical-align: top;\n",
       "    }\n",
       "\n",
       "    .dataframe thead th {\n",
       "        text-align: right;\n",
       "    }\n",
       "</style>\n",
       "<table border=\"1\" class=\"dataframe\">\n",
       "  <thead>\n",
       "    <tr style=\"text-align: right;\">\n",
       "      <th></th>\n",
       "      <th>id</th>\n",
       "      <th>pgr_id</th>\n",
       "      <th>pgr_name</th>\n",
       "      <th>bez</th>\n",
       "      <th>finhalt</th>\n",
       "      <th>stand</th>\n",
       "      <th>geometry</th>\n",
       "    </tr>\n",
       "  </thead>\n",
       "  <tbody>\n",
       "    <tr>\n",
       "      <th>0</th>\n",
       "      <td>c_lor_pgr_2021.0370</td>\n",
       "      <td>0370</td>\n",
       "      <td>Südlicher Prenzlauer Berg</td>\n",
       "      <td>03 - Pankow</td>\n",
       "      <td>3.031117e+06</td>\n",
       "      <td>01.01.2021</td>\n",
       "      <td>MULTIPOLYGON (((13.41975 52.52555, 13.42016 52...</td>\n",
       "    </tr>\n",
       "    <tr>\n",
       "      <th>1</th>\n",
       "      <td>c_lor_pgr_2021.0220</td>\n",
       "      <td>0220</td>\n",
       "      <td>Kreuzberg Süd</td>\n",
       "      <td>02 - Friedrichshain-Kreuzberg</td>\n",
       "      <td>4.746309e+06</td>\n",
       "      <td>01.01.2021</td>\n",
       "      <td>MULTIPOLYGON (((13.40772 52.48875, 13.40789 52...</td>\n",
       "    </tr>\n",
       "    <tr>\n",
       "      <th>2</th>\n",
       "      <td>c_lor_pgr_2021.0760</td>\n",
       "      <td>0760</td>\n",
       "      <td>Marienfelde / Lichtenrade</td>\n",
       "      <td>07 - Tempelhof-Schöneberg</td>\n",
       "      <td>1.919254e+07</td>\n",
       "      <td>01.01.2021</td>\n",
       "      <td>MULTIPOLYGON (((13.35912 52.41990, 13.35902 52...</td>\n",
       "    </tr>\n",
       "    <tr>\n",
       "      <th>3</th>\n",
       "      <td>c_lor_pgr_2021.0520</td>\n",
       "      <td>0520</td>\n",
       "      <td>Wilhelmstadt / Staaken</td>\n",
       "      <td>05 - Spandau</td>\n",
       "      <td>2.301526e+07</td>\n",
       "      <td>01.01.2021</td>\n",
       "      <td>MULTIPOLYGON (((13.15724 52.50162, 13.15726 52...</td>\n",
       "    </tr>\n",
       "    <tr>\n",
       "      <th>4</th>\n",
       "      <td>c_lor_pgr_2021.0330</td>\n",
       "      <td>0330</td>\n",
       "      <td>Nördliches Weißensee</td>\n",
       "      <td>03 - Pankow</td>\n",
       "      <td>2.222540e+07</td>\n",
       "      <td>01.12.2021</td>\n",
       "      <td>MULTIPOLYGON (((13.43357 52.58232, 13.43362 52...</td>\n",
       "    </tr>\n",
       "  </tbody>\n",
       "</table>\n",
       "</div>"
      ],
      "text/plain": [
       "                    id pgr_id                   pgr_name  \\\n",
       "0  c_lor_pgr_2021.0370   0370  Südlicher Prenzlauer Berg   \n",
       "1  c_lor_pgr_2021.0220   0220              Kreuzberg Süd   \n",
       "2  c_lor_pgr_2021.0760   0760  Marienfelde / Lichtenrade   \n",
       "3  c_lor_pgr_2021.0520   0520     Wilhelmstadt / Staaken   \n",
       "4  c_lor_pgr_2021.0330   0330       Nördliches Weißensee   \n",
       "\n",
       "                             bez       finhalt       stand  \\\n",
       "0                    03 - Pankow  3.031117e+06  01.01.2021   \n",
       "1  02 - Friedrichshain-Kreuzberg  4.746309e+06  01.01.2021   \n",
       "2      07 - Tempelhof-Schöneberg  1.919254e+07  01.01.2021   \n",
       "3                   05 - Spandau  2.301526e+07  01.01.2021   \n",
       "4                    03 - Pankow  2.222540e+07  01.12.2021   \n",
       "\n",
       "                                            geometry  \n",
       "0  MULTIPOLYGON (((13.41975 52.52555, 13.42016 52...  \n",
       "1  MULTIPOLYGON (((13.40772 52.48875, 13.40789 52...  \n",
       "2  MULTIPOLYGON (((13.35912 52.41990, 13.35902 52...  \n",
       "3  MULTIPOLYGON (((13.15724 52.50162, 13.15726 52...  \n",
       "4  MULTIPOLYGON (((13.43357 52.58232, 13.43362 52...  "
      ]
     },
     "execution_count": 7,
     "metadata": {},
     "output_type": "execute_result"
    }
   ],
   "source": [
    "admin_areas.head()"
   ]
  },
  {
   "cell_type": "code",
   "execution_count": 8,
   "metadata": {},
   "outputs": [
    {
     "data": {
      "text/plain": [
       "58"
      ]
     },
     "execution_count": 8,
     "metadata": {},
     "output_type": "execute_result"
    }
   ],
   "source": [
    "len(admin_areas[\"pgr_name\"].unique())"
   ]
  },
  {
   "cell_type": "code",
   "execution_count": 9,
   "metadata": {},
   "outputs": [
    {
     "name": "stdout",
     "output_type": "stream",
     "text": [
      "0     None\n",
      "1     None\n",
      "2     None\n",
      "3     None\n",
      "4     None\n",
      "5     None\n",
      "6     None\n",
      "7     None\n",
      "8     None\n",
      "9     None\n",
      "10    None\n",
      "11    None\n",
      "12    None\n",
      "13    None\n",
      "14    None\n",
      "15    None\n",
      "16    None\n",
      "17    None\n",
      "18    None\n",
      "19    None\n",
      "20    None\n",
      "21    None\n",
      "22    None\n",
      "23    None\n",
      "24    None\n",
      "25    None\n",
      "26    None\n",
      "27    None\n",
      "28    None\n",
      "29    None\n",
      "30    None\n",
      "31    None\n",
      "32    None\n",
      "33    None\n",
      "34    None\n",
      "35    None\n",
      "36    None\n",
      "37    None\n",
      "38    None\n",
      "39    None\n",
      "40    None\n",
      "41    None\n",
      "42    None\n",
      "43    None\n",
      "44    None\n",
      "45    None\n",
      "46    None\n",
      "47    None\n",
      "48    None\n",
      "49    None\n",
      "50    None\n",
      "51    None\n",
      "52    None\n",
      "53    None\n",
      "54    None\n",
      "55    None\n",
      "56    None\n",
      "57    None\n",
      "dtype: object\n"
     ]
    }
   ],
   "source": [
    "\n",
    "\"\"\"\n",
    "------------------------------------------------------------------------------\n",
    "Function admin area geometry\n",
    "------------------------------------------------------------------------------\n",
    "\"\"\"\n",
    "\n",
    "def create_admin_geom(admin_area, admin_areas):\n",
    "\n",
    "    \n",
    "    Prognoseraum = admin_area.get(\"pgr_name\").replace(\" \", \"_\").replace(\"/\", \"_\").replace(\";\", \"_\")\n",
    "    # if Prognoseraum is None or Prognoseraum == \"\":\n",
    "    #     print(\"Ungültiger Prognoseraum\")\n",
    "    #     return None  # Oder eine geeignete Rückgabe\n",
    "    \n",
    "    admin_geometry = admin_area.geometry\n",
    "    gdf= gpd.GeoDataFrame({\"geometry\": [admin_geometry]})\n",
    "\n",
    "    #Plot\n",
    "    fig, ax = plt.subplots()\n",
    "    gdf.plot(ax=ax)\n",
    "\n",
    "    #Text\n",
    "    centroid = admin_geometry.centroid\n",
    "    ax.text(centroid.x, centroid.y, Prognoseraum, fontsize=12, ha=\"center\", va=\"center\")\n",
    "\n",
    "    #svg\n",
    "    fig.savefig(f\"../data/svg/{Prognoseraum}.svg\", format=\"svg\")\n",
    "\n",
    "    plt.close(fig) \n",
    "\n",
    "\n",
    "\n",
    "\n",
    "result = admin_areas.apply(\n",
    "    lambda row: create_admin_geom(row, admin_areas), axis=1\n",
    ")\n",
    "\n",
    "\n",
    "print(result)\n"
   ]
  }
 ],
 "metadata": {
  "kernelspec": {
   "display_name": "base",
   "language": "python",
   "name": "python3"
  },
  "language_info": {
   "codemirror_mode": {
    "name": "ipython",
    "version": 3
   },
   "file_extension": ".py",
   "mimetype": "text/x-python",
   "name": "python",
   "nbconvert_exporter": "python",
   "pygments_lexer": "ipython3",
   "version": "3.9.6"
  }
 },
 "nbformat": 4,
 "nbformat_minor": 2
}
