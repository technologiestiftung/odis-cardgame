{
 "cells": [
  {
   "cell_type": "code",
   "execution_count": null,
   "metadata": {},
   "outputs": [
    {
     "data": {
      "text/plain": [
       "'\\n------------------------------------------------------------------------------\\nAbout\\nIn this data analysis, the total gross roof area [m²] suitable for photovoltaics \\nis calculated for each admin area.\\n------------------------------------------------------------------------------\\n'"
      ]
     },
     "execution_count": 64,
     "metadata": {},
     "output_type": "execute_result"
    }
   ],
   "source": [
    "\"\"\"\n",
    "------------------------------------------------------------------------------\n",
    "About\n",
    "This data analysis shows how much solar energy could be generated per year (Gwh/a)\n",
    "if all suitable roofs were equipped with photovoltaics.\n",
    "------------------------------------------------------------------------------\n",
    "\"\"\"\n"
   ]
  },
  {
   "cell_type": "code",
   "execution_count": 65,
   "metadata": {},
   "outputs": [],
   "source": [
    "\"\"\"\n",
    "------------------------------------------------------------------------------\n",
    "Libraries\n",
    "------------------------------------------------------------------------------\n",
    "\"\"\"\n",
    "\n",
    "import pandas as pd\n",
    "import geopandas as gpd"
   ]
  },
  {
   "cell_type": "code",
   "execution_count": 66,
   "metadata": {},
   "outputs": [],
   "source": [
    "\"\"\"\n",
    "------------------------------------------------------------------------------\n",
    "Load GeoJson files\n",
    "------------------------------------------------------------------------------\n",
    "\"\"\"\n",
    "\n",
    "admin_areas = gpd.read_file(\"../data/raw/Prognoseräume.json\")\n",
    "\n",
    "solarPotential = gpd.read_file(\"../data/raw/Solarpotenzial.geojson\")"
   ]
  },
  {
   "cell_type": "code",
   "execution_count": 67,
   "metadata": {},
   "outputs": [
    {
     "data": {
      "text/html": [
       "<div>\n",
       "<style scoped>\n",
       "    .dataframe tbody tr th:only-of-type {\n",
       "        vertical-align: middle;\n",
       "    }\n",
       "\n",
       "    .dataframe tbody tr th {\n",
       "        vertical-align: top;\n",
       "    }\n",
       "\n",
       "    .dataframe thead th {\n",
       "        text-align: right;\n",
       "    }\n",
       "</style>\n",
       "<table border=\"1\" class=\"dataframe\">\n",
       "  <thead>\n",
       "    <tr style=\"text-align: right;\">\n",
       "      <th></th>\n",
       "      <th>id</th>\n",
       "      <th>geb_id</th>\n",
       "      <th>sum_modarea</th>\n",
       "      <th>sum_str_19_5</th>\n",
       "      <th>sum_co2_19_5</th>\n",
       "      <th>sum_kw_19_5</th>\n",
       "      <th>sum_anzahl_0</th>\n",
       "      <th>lage</th>\n",
       "      <th>geb_funktion</th>\n",
       "      <th>geometry</th>\n",
       "    </tr>\n",
       "  </thead>\n",
       "  <tbody>\n",
       "    <tr>\n",
       "      <th>0</th>\n",
       "      <td>4</td>\n",
       "      <td>Geb4047ts0202_a</td>\n",
       "      <td>NaN</td>\n",
       "      <td>NaN</td>\n",
       "      <td>NaN</td>\n",
       "      <td>NaN</td>\n",
       "      <td>NaN</td>\n",
       "      <td>Beusselstraße 44R</td>\n",
       "      <td>Lagerhalle, Lagerschuppen, Lagerhaus</td>\n",
       "      <td>MULTIPOLYGON (((386541.6 5821684.175, 386542.5...</td>\n",
       "    </tr>\n",
       "    <tr>\n",
       "      <th>1</th>\n",
       "      <td>18</td>\n",
       "      <td>Geb110278ts0202_a</td>\n",
       "      <td>13.0</td>\n",
       "      <td>3106.0</td>\n",
       "      <td>1690.0</td>\n",
       "      <td>3.20</td>\n",
       "      <td>10.0</td>\n",
       "      <td>Heckerdamm 197</td>\n",
       "      <td>Wohnhaus</td>\n",
       "      <td>MULTIPOLYGON (((385488.209 5822180.221, 385488...</td>\n",
       "    </tr>\n",
       "    <tr>\n",
       "      <th>2</th>\n",
       "      <td>51</td>\n",
       "      <td>Geb1462ts0202_a</td>\n",
       "      <td>880.0</td>\n",
       "      <td>88420.0</td>\n",
       "      <td>48101.0</td>\n",
       "      <td>118.08</td>\n",
       "      <td>369.0</td>\n",
       "      <td>Philippstraße 13</td>\n",
       "      <td>Hochschulgebäude (Fachhochschule, Universität)</td>\n",
       "      <td>MULTIPOLYGON (((390368.993 5820760.62, 390370....</td>\n",
       "    </tr>\n",
       "    <tr>\n",
       "      <th>3</th>\n",
       "      <td>61</td>\n",
       "      <td>Geb109923ts0202_a</td>\n",
       "      <td>NaN</td>\n",
       "      <td>NaN</td>\n",
       "      <td>NaN</td>\n",
       "      <td>NaN</td>\n",
       "      <td>NaN</td>\n",
       "      <td>None</td>\n",
       "      <td>Gebäudefunktion unbekannt</td>\n",
       "      <td>MULTIPOLYGON (((385602.265 5820331.048, 385594...</td>\n",
       "    </tr>\n",
       "    <tr>\n",
       "      <th>4</th>\n",
       "      <td>76</td>\n",
       "      <td>Geb102147ts0202_a</td>\n",
       "      <td>NaN</td>\n",
       "      <td>NaN</td>\n",
       "      <td>NaN</td>\n",
       "      <td>NaN</td>\n",
       "      <td>NaN</td>\n",
       "      <td>None</td>\n",
       "      <td>Gebäudefunktion unbekannt</td>\n",
       "      <td>MULTIPOLYGON (((385612.521 5820344.426, 385613...</td>\n",
       "    </tr>\n",
       "  </tbody>\n",
       "</table>\n",
       "</div>"
      ],
      "text/plain": [
       "   id             geb_id  sum_modarea  sum_str_19_5  sum_co2_19_5  \\\n",
       "0   4    Geb4047ts0202_a          NaN           NaN           NaN   \n",
       "1  18  Geb110278ts0202_a         13.0        3106.0        1690.0   \n",
       "2  51    Geb1462ts0202_a        880.0       88420.0       48101.0   \n",
       "3  61  Geb109923ts0202_a          NaN           NaN           NaN   \n",
       "4  76  Geb102147ts0202_a          NaN           NaN           NaN   \n",
       "\n",
       "   sum_kw_19_5  sum_anzahl_0               lage  \\\n",
       "0          NaN           NaN  Beusselstraße 44R   \n",
       "1         3.20          10.0     Heckerdamm 197   \n",
       "2       118.08         369.0   Philippstraße 13   \n",
       "3          NaN           NaN               None   \n",
       "4          NaN           NaN               None   \n",
       "\n",
       "                                     geb_funktion  \\\n",
       "0            Lagerhalle, Lagerschuppen, Lagerhaus   \n",
       "1                                        Wohnhaus   \n",
       "2  Hochschulgebäude (Fachhochschule, Universität)   \n",
       "3                       Gebäudefunktion unbekannt   \n",
       "4                       Gebäudefunktion unbekannt   \n",
       "\n",
       "                                            geometry  \n",
       "0  MULTIPOLYGON (((386541.6 5821684.175, 386542.5...  \n",
       "1  MULTIPOLYGON (((385488.209 5822180.221, 385488...  \n",
       "2  MULTIPOLYGON (((390368.993 5820760.62, 390370....  \n",
       "3  MULTIPOLYGON (((385602.265 5820331.048, 385594...  \n",
       "4  MULTIPOLYGON (((385612.521 5820344.426, 385613...  "
      ]
     },
     "execution_count": 67,
     "metadata": {},
     "output_type": "execute_result"
    }
   ],
   "source": [
    "solarPotential.head()"
   ]
  },
  {
   "cell_type": "code",
   "execution_count": 68,
   "metadata": {},
   "outputs": [
    {
     "data": {
      "text/plain": [
       "'\\n------------------------------------------------------------------------------\\ngeb_id\\t        Schlüssel\\nlage_\\t        Adresse\\ngeb_funktion\\tGebäudefunktion\\nsum_kw_19_5\\t    Installierbare Leistung [kWP]\\nsum_anzahl_0\\tAnzahl Standardmodule\\nsum_modarea\\t    Geeignette Brutto-Dachfläche [m²]\\nsum_str_19_5\\tMöglicher Ertrag pro Jahr [kWh/a]\\nsum_co2_19_5\\tCO2-Einsparung pro Jahr [kg/a]\\n------------------------------------------------------------------------------\\n'"
      ]
     },
     "execution_count": 68,
     "metadata": {},
     "output_type": "execute_result"
    }
   ],
   "source": [
    "\"\"\"\n",
    "------------------------------------------------------------------------------\n",
    "geb_id\t        Schlüssel\n",
    "lage_\t        Adresse\n",
    "geb_funktion\tGebäudefunktion\n",
    "sum_kw_19_5\t    Installierbare Leistung [kWP]\n",
    "sum_anzahl_0\tAnzahl Standardmodule\n",
    "sum_modarea\t    Geeignette Brutto-Dachfläche [m²]\n",
    "sum_str_19_5\tMöglicher Ertrag pro Jahr [kWh/a]\n",
    "sum_co2_19_5\tCO2-Einsparung pro Jahr [kg/a]\n",
    "------------------------------------------------------------------------------\n",
    "\"\"\"\n"
   ]
  },
  {
   "cell_type": "code",
   "execution_count": 69,
   "metadata": {},
   "outputs": [
    {
     "data": {
      "text/html": [
       "<div>\n",
       "<style scoped>\n",
       "    .dataframe tbody tr th:only-of-type {\n",
       "        vertical-align: middle;\n",
       "    }\n",
       "\n",
       "    .dataframe tbody tr th {\n",
       "        vertical-align: top;\n",
       "    }\n",
       "\n",
       "    .dataframe thead th {\n",
       "        text-align: right;\n",
       "    }\n",
       "</style>\n",
       "<table border=\"1\" class=\"dataframe\">\n",
       "  <thead>\n",
       "    <tr style=\"text-align: right;\">\n",
       "      <th></th>\n",
       "      <th>id</th>\n",
       "      <th>geb_id</th>\n",
       "      <th>sum_modarea</th>\n",
       "      <th>sum_str_19_5</th>\n",
       "      <th>sum_co2_19_5</th>\n",
       "      <th>sum_kw_19_5</th>\n",
       "      <th>sum_anzahl_0</th>\n",
       "      <th>lage</th>\n",
       "      <th>geb_funktion</th>\n",
       "      <th>centroid</th>\n",
       "    </tr>\n",
       "  </thead>\n",
       "  <tbody>\n",
       "    <tr>\n",
       "      <th>0</th>\n",
       "      <td>4</td>\n",
       "      <td>Geb4047ts0202_a</td>\n",
       "      <td>NaN</td>\n",
       "      <td>NaN</td>\n",
       "      <td>NaN</td>\n",
       "      <td>NaN</td>\n",
       "      <td>NaN</td>\n",
       "      <td>Beusselstraße 44R</td>\n",
       "      <td>Lagerhalle, Lagerschuppen, Lagerhaus</td>\n",
       "      <td>POINT (386542.471 5821682.891)</td>\n",
       "    </tr>\n",
       "    <tr>\n",
       "      <th>1</th>\n",
       "      <td>18</td>\n",
       "      <td>Geb110278ts0202_a</td>\n",
       "      <td>13.0</td>\n",
       "      <td>3106.0</td>\n",
       "      <td>1690.0</td>\n",
       "      <td>3.20</td>\n",
       "      <td>10.0</td>\n",
       "      <td>Heckerdamm 197</td>\n",
       "      <td>Wohnhaus</td>\n",
       "      <td>POINT (385491.352 5822183.287)</td>\n",
       "    </tr>\n",
       "    <tr>\n",
       "      <th>2</th>\n",
       "      <td>51</td>\n",
       "      <td>Geb1462ts0202_a</td>\n",
       "      <td>880.0</td>\n",
       "      <td>88420.0</td>\n",
       "      <td>48101.0</td>\n",
       "      <td>118.08</td>\n",
       "      <td>369.0</td>\n",
       "      <td>Philippstraße 13</td>\n",
       "      <td>Hochschulgebäude (Fachhochschule, Universität)</td>\n",
       "      <td>POINT (390361.731 5820796.957)</td>\n",
       "    </tr>\n",
       "    <tr>\n",
       "      <th>3</th>\n",
       "      <td>61</td>\n",
       "      <td>Geb109923ts0202_a</td>\n",
       "      <td>NaN</td>\n",
       "      <td>NaN</td>\n",
       "      <td>NaN</td>\n",
       "      <td>NaN</td>\n",
       "      <td>NaN</td>\n",
       "      <td>None</td>\n",
       "      <td>Gebäudefunktion unbekannt</td>\n",
       "      <td>POINT (385599.015 5820334.119)</td>\n",
       "    </tr>\n",
       "    <tr>\n",
       "      <th>4</th>\n",
       "      <td>76</td>\n",
       "      <td>Geb102147ts0202_a</td>\n",
       "      <td>NaN</td>\n",
       "      <td>NaN</td>\n",
       "      <td>NaN</td>\n",
       "      <td>NaN</td>\n",
       "      <td>NaN</td>\n",
       "      <td>None</td>\n",
       "      <td>Gebäudefunktion unbekannt</td>\n",
       "      <td>POINT (385611.023 5820337.078)</td>\n",
       "    </tr>\n",
       "  </tbody>\n",
       "</table>\n",
       "</div>"
      ],
      "text/plain": [
       "   id             geb_id  sum_modarea  sum_str_19_5  sum_co2_19_5  \\\n",
       "0   4    Geb4047ts0202_a          NaN           NaN           NaN   \n",
       "1  18  Geb110278ts0202_a         13.0        3106.0        1690.0   \n",
       "2  51    Geb1462ts0202_a        880.0       88420.0       48101.0   \n",
       "3  61  Geb109923ts0202_a          NaN           NaN           NaN   \n",
       "4  76  Geb102147ts0202_a          NaN           NaN           NaN   \n",
       "\n",
       "   sum_kw_19_5  sum_anzahl_0               lage  \\\n",
       "0          NaN           NaN  Beusselstraße 44R   \n",
       "1         3.20          10.0     Heckerdamm 197   \n",
       "2       118.08         369.0   Philippstraße 13   \n",
       "3          NaN           NaN               None   \n",
       "4          NaN           NaN               None   \n",
       "\n",
       "                                     geb_funktion  \\\n",
       "0            Lagerhalle, Lagerschuppen, Lagerhaus   \n",
       "1                                        Wohnhaus   \n",
       "2  Hochschulgebäude (Fachhochschule, Universität)   \n",
       "3                       Gebäudefunktion unbekannt   \n",
       "4                       Gebäudefunktion unbekannt   \n",
       "\n",
       "                         centroid  \n",
       "0  POINT (386542.471 5821682.891)  \n",
       "1  POINT (385491.352 5822183.287)  \n",
       "2  POINT (390361.731 5820796.957)  \n",
       "3  POINT (385599.015 5820334.119)  \n",
       "4  POINT (385611.023 5820337.078)  "
      ]
     },
     "execution_count": 69,
     "metadata": {},
     "output_type": "execute_result"
    }
   ],
   "source": [
    "#convert polygon into centroid\n",
    "solarPotential[\"centroid\"] = solarPotential.geometry.centroid\n",
    "gdf_solarPotential = solarPotential.drop(columns = \"geometry\")\n",
    "\n",
    "gdf_solarPotential = gdf_solarPotential.set_geometry(\"centroid\") \n",
    "\n",
    "gdf_solarPotential.head()"
   ]
  },
  {
   "cell_type": "code",
   "execution_count": 70,
   "metadata": {},
   "outputs": [
    {
     "name": "stdout",
     "output_type": "stream",
     "text": [
      "Empty geometry in gdf_solarPotential: 24\n",
      "Invalid geometry in gdf_solarPotential: 0\n"
     ]
    }
   ],
   "source": [
    "\"\"\"\n",
    "------------------------------------------------------------------------------\n",
    "Checking invalid geometries\n",
    "------------------------------------------------------------------------------\n",
    "\"\"\"\n",
    "\n",
    "#check the combined dataframe for empty or invalid geometries\n",
    "print(f\"Empty geometry in gdf_solarPotential: {len(gdf_solarPotential[gdf_solarPotential.is_empty])}\")\n",
    "print(f\"Invalid geometry in gdf_solarPotential: {len(gdf_solarPotential[~gdf_solarPotential.is_valid])}\")"
   ]
  },
  {
   "cell_type": "code",
   "execution_count": 71,
   "metadata": {},
   "outputs": [
    {
     "data": {
      "text/plain": [
       "(537332, 10)"
      ]
     },
     "execution_count": 71,
     "metadata": {},
     "output_type": "execute_result"
    }
   ],
   "source": [
    "\"\"\"\n",
    "------------------------------------------------------------------------------\n",
    "Data exploration\n",
    "------------------------------------------------------------------------------\n",
    "\"\"\"\n",
    "\n",
    "gdf_solarPotential.shape"
   ]
  },
  {
   "cell_type": "code",
   "execution_count": 72,
   "metadata": {},
   "outputs": [
    {
     "data": {
      "text/plain": [
       "id                   0\n",
       "geb_id            1542\n",
       "sum_modarea     116220\n",
       "sum_str_19_5    116220\n",
       "sum_co2_19_5    116220\n",
       "sum_kw_19_5     116220\n",
       "sum_anzahl_0    116220\n",
       "lage               978\n",
       "geb_funktion         0\n",
       "centroid             0\n",
       "dtype: int64"
      ]
     },
     "execution_count": 72,
     "metadata": {},
     "output_type": "execute_result"
    }
   ],
   "source": [
    "gdf_solarPotential.isna().sum()"
   ]
  },
  {
   "cell_type": "code",
   "execution_count": 73,
   "metadata": {},
   "outputs": [],
   "source": [
    "gdf_solarPotential.dropna(inplace=True)"
   ]
  },
  {
   "cell_type": "code",
   "execution_count": 74,
   "metadata": {},
   "outputs": [
    {
     "data": {
      "text/plain": [
       "(420529, 10)"
      ]
     },
     "execution_count": 74,
     "metadata": {},
     "output_type": "execute_result"
    }
   ],
   "source": [
    "gdf_solarPotential.shape"
   ]
  },
  {
   "cell_type": "code",
   "execution_count": 75,
   "metadata": {},
   "outputs": [
    {
     "data": {
      "text/plain": [
       "id                 int32\n",
       "geb_id            object\n",
       "sum_modarea      float64\n",
       "sum_str_19_5     float64\n",
       "sum_co2_19_5     float64\n",
       "sum_kw_19_5      float64\n",
       "sum_anzahl_0     float64\n",
       "lage              object\n",
       "geb_funktion      object\n",
       "centroid        geometry\n",
       "dtype: object"
      ]
     },
     "execution_count": 75,
     "metadata": {},
     "output_type": "execute_result"
    }
   ],
   "source": [
    "gdf_solarPotential.dtypes"
   ]
  },
  {
   "cell_type": "code",
   "execution_count": 76,
   "metadata": {},
   "outputs": [],
   "source": [
    "#subset\n",
    "cols = [\"sum_modarea\", \"sum_str_19_5\", \"sum_co2_19_5\", \"sum_kw_19_5\", \"sum_anzahl_0\"]\n",
    "#convert to int\n",
    "gdf_solarPotential[cols] = gdf_solarPotential[cols].astype(int)"
   ]
  },
  {
   "cell_type": "code",
   "execution_count": 77,
   "metadata": {},
   "outputs": [
    {
     "data": {
      "text/plain": [
       "<Axes: >"
      ]
     },
     "execution_count": 77,
     "metadata": {},
     "output_type": "execute_result"
    },
    {
     "data": {
      "image/png": "[encoded data removed]",
      "text/plain": [
       "<Figure size 640x480 with 1 Axes>"
      ]
     },
     "metadata": {},
     "output_type": "display_data"
    }
   ],
   "source": [
    "gdf_solarPotential.plot()"
   ]
  },
  {
   "cell_type": "code",
   "execution_count": 78,
   "metadata": {},
   "outputs": [
    {
     "name": "stdout",
     "output_type": "stream",
     "text": [
      "EPSG:4326\n",
      "EPSG:25833\n"
     ]
    }
   ],
   "source": [
    "\"\"\"\n",
    "------------------------------------------------------------------------------\n",
    "CSR (coordinate reference system)\n",
    "------------------------------------------------------------------------------\n",
    "\"\"\"\n",
    "\n",
    "#check CRS\n",
    "print(admin_areas.crs)\n",
    "print(gdf_solarPotential.crs)"
   ]
  },
  {
   "cell_type": "code",
   "execution_count": 79,
   "metadata": {},
   "outputs": [],
   "source": [
    "#ensure both GeoDataFrames have the same CRS \n",
    "if admin_areas.crs != gdf_solarPotential.crs:\n",
    "    gdf_solarPotential = gdf_solarPotential.to_crs(admin_areas.crs)"
   ]
  },
  {
   "cell_type": "code",
   "execution_count": 80,
   "metadata": {},
   "outputs": [],
   "source": [
    "\"\"\"\n",
    "------------------------------------------------------------------------------\n",
    "Function\n",
    "solar potential by admin area\n",
    "sum_str_19_5: Potential annual yield [kWh/a]\n",
    "------------------------------------------------------------------------------\n",
    "\"\"\"\n",
    "\n",
    "\n",
    "def calculate_solar_potential(admin_area, gdf_solarPotential):\n",
    "    #find intersections between the solar potential dataframe and admin areas\n",
    "    intersections = gdf_solarPotential[gdf_solarPotential.intersects(admin_area.geometry)]\n",
    "    \n",
    "    #calculate the total sum of the potential annual yield [gWh/a]\n",
    "    total_anual_yield_kwa = intersections[\"sum_str_19_5\"].sum()\n",
    "    total_anual_yield_gwha = round(total_anual_yield_kwa / 1000000)\n",
    "\n",
    "    print(f\"Admin Area: {admin_area['pgr_name']}, Total anual yield in gwh/a: {total_anual_yield_gwha}\")\n",
    "    \n",
    "    return  total_anual_yield_gwha\n",
    "\n",
    "\n"
   ]
  },
  {
   "cell_type": "code",
   "execution_count": 81,
   "metadata": {},
   "outputs": [
    {
     "name": "stdout",
     "output_type": "stream",
     "text": [
      "Admin Area: Südlicher Prenzlauer Berg, Total anual yield in gwh/a: 72\n",
      "Admin Area: Kreuzberg Süd, Total anual yield in gwh/a: 98\n",
      "Admin Area: Marienfelde / Lichtenrade, Total anual yield in gwh/a: 279\n",
      "Admin Area: Wilhelmstadt / Staaken, Total anual yield in gwh/a: 227\n",
      "Admin Area: Nördliches Weißensee, Total anual yield in gwh/a: 122\n",
      "Admin Area: Tempelhof, Total anual yield in gwh/a: 201\n",
      "Admin Area: Lichtenberg Nord, Total anual yield in gwh/a: 155\n",
      "Admin Area: Lichtenberg Mitte, Total anual yield in gwh/a: 96\n",
      "Admin Area: Hellersdorf, Total anual yield in gwh/a: 94\n",
      "Admin Area: Buch, Total anual yield in gwh/a: 56\n",
      "Admin Area: Hohenschönhausen Nord, Total anual yield in gwh/a: 81\n",
      "Admin Area: Kaulsdorf/Mahlsdorf, Total anual yield in gwh/a: 190\n",
      "Admin Area: Treptow-Köpenick 1, Total anual yield in gwh/a: 129\n",
      "Admin Area: Tegel, Total anual yield in gwh/a: 163\n",
      "Admin Area: Mariendorf, Total anual yield in gwh/a: 133\n",
      "Admin Area: Friedrichshain Ost, Total anual yield in gwh/a: 98\n",
      "Admin Area: Nördlicher Prenzlauer Berg, Total anual yield in gwh/a: 143\n",
      "Admin Area: Charlottenburg Nord, Total anual yield in gwh/a: 42\n",
      "Admin Area: Lankwitz/Lichterfelde Ost, Total anual yield in gwh/a: 166\n",
      "Admin Area: Schöneberg Nord, Total anual yield in gwh/a: 65\n",
      "Admin Area: Neukölln, Total anual yield in gwh/a: 220\n",
      "Admin Area: Zehlendorf Nord/Wannsee, Total anual yield in gwh/a: 186\n",
      "Admin Area: Wilmersdorf Süd, Total anual yield in gwh/a: 110\n",
      "Admin Area: Grüner Norden, Total anual yield in gwh/a: 147\n",
      "Admin Area: Zentrum, Total anual yield in gwh/a: 303\n",
      "Admin Area: Schöneberg Süd, Total anual yield in gwh/a: 80\n",
      "Admin Area: Gesundbrunnen, Total anual yield in gwh/a: 101\n",
      "Admin Area: Gatow / Kladow, Total anual yield in gwh/a: 71\n",
      "Admin Area: Nördliches Pankow, Total anual yield in gwh/a: 148\n",
      "Admin Area: Treptow-Köpenick 5, Total anual yield in gwh/a: 151\n",
      "Admin Area: Buckow Nord/Rudow, Total anual yield in gwh/a: 149\n",
      "Admin Area: Moabit, Total anual yield in gwh/a: 176\n",
      "Admin Area: Gropiusstadt, Total anual yield in gwh/a: 38\n",
      "Admin Area: Lichtenberg Süd, Total anual yield in gwh/a: 81\n",
      "Admin Area: Treptow-Köpenick 3, Total anual yield in gwh/a: 161\n",
      "Admin Area: Kreuzberg Ost, Total anual yield in gwh/a: 62\n",
      "Admin Area: Treptow-Köpenick 2, Total anual yield in gwh/a: 217\n",
      "Admin Area: Spandau Mitte / Nord, Total anual yield in gwh/a: 233\n",
      "Admin Area: Wittenau/Borsigwalde, Total anual yield in gwh/a: 165\n",
      "Admin Area: Biesdorf, Total anual yield in gwh/a: 100\n",
      "Admin Area: Wilmersdorf Zentrum, Total anual yield in gwh/a: 193\n",
      "Admin Area: Märkisches Viertel, Total anual yield in gwh/a: 73\n",
      "Admin Area: Kreuzberg Nord, Total anual yield in gwh/a: 57\n",
      "Admin Area: Haselhorst / Siemensstadt, Total anual yield in gwh/a: 165\n",
      "Admin Area: Hohenschönhausen Süd, Total anual yield in gwh/a: 130\n",
      "Admin Area: Zehlendorf Süd/Lichterfelde West, Total anual yield in gwh/a: 214\n",
      "Admin Area: Südliches Pankow, Total anual yield in gwh/a: 158\n",
      "Admin Area: Steglitz, Total anual yield in gwh/a: 109\n",
      "Admin Area: Friedrichshain West, Total anual yield in gwh/a: 71\n",
      "Admin Area: Wedding, Total anual yield in gwh/a: 136\n",
      "Admin Area: Britz/Buckow, Total anual yield in gwh/a: 178\n",
      "Admin Area: Charlottenburg Zentrum, Total anual yield in gwh/a: 194\n",
      "Admin Area: Reinickendorf Ost, Total anual yield in gwh/a: 126\n",
      "Admin Area: Treptow-Köpenick 4, Total anual yield in gwh/a: 81\n",
      "Admin Area: Südliches Weißensee, Total anual yield in gwh/a: 125\n",
      "Admin Area: Charlottenburg West, Total anual yield in gwh/a: 128\n",
      "Admin Area: Friedenau, Total anual yield in gwh/a: 72\n",
      "Admin Area: Marzahn, Total anual yield in gwh/a: 204\n"
     ]
    }
   ],
   "source": [
    "#calculation of total_sum_modarea for each administrative area\n",
    "admin_areas[\"total_anual_yield_gwha\"] = admin_areas.apply(\n",
    "    lambda row: calculate_solar_potential(row, gdf_solarPotential), axis=1\n",
    ")\n"
   ]
  },
  {
   "cell_type": "code",
   "execution_count": 82,
   "metadata": {},
   "outputs": [
    {
     "name": "stderr",
     "output_type": "stream",
     "text": [
      "/var/folders/_f/022l68353h9c2pr_3t55ns1m0000gn/T/ipykernel_21046/278958986.py:5: SettingWithCopyWarning: \n",
      "A value is trying to be set on a copy of a slice from a DataFrame\n",
      "\n",
      "See the caveats in the documentation: https://pandas.pydata.org/pandas-docs/stable/user_guide/indexing.html#returning-a-view-versus-a-copy\n",
      "  solarPotential.sort_values(by=\"total_anual_yield_gwha\", ascending=False, inplace=True)\n"
     ]
    },
    {
     "data": {
      "text/html": [
       "<div>\n",
       "<style scoped>\n",
       "    .dataframe tbody tr th:only-of-type {\n",
       "        vertical-align: middle;\n",
       "    }\n",
       "\n",
       "    .dataframe tbody tr th {\n",
       "        vertical-align: top;\n",
       "    }\n",
       "\n",
       "    .dataframe thead th {\n",
       "        text-align: right;\n",
       "    }\n",
       "</style>\n",
       "<table border=\"1\" class=\"dataframe\">\n",
       "  <thead>\n",
       "    <tr style=\"text-align: right;\">\n",
       "      <th></th>\n",
       "      <th>pgr_id</th>\n",
       "      <th>pgr_name</th>\n",
       "      <th>total_anual_yield_gwha</th>\n",
       "    </tr>\n",
       "  </thead>\n",
       "  <tbody>\n",
       "    <tr>\n",
       "      <th>0</th>\n",
       "      <td>0110</td>\n",
       "      <td>Zentrum</td>\n",
       "      <td>303</td>\n",
       "    </tr>\n",
       "    <tr>\n",
       "      <th>1</th>\n",
       "      <td>0760</td>\n",
       "      <td>Marienfelde / Lichtenrade</td>\n",
       "      <td>279</td>\n",
       "    </tr>\n",
       "    <tr>\n",
       "      <th>2</th>\n",
       "      <td>0510</td>\n",
       "      <td>Spandau Mitte / Nord</td>\n",
       "      <td>233</td>\n",
       "    </tr>\n",
       "    <tr>\n",
       "      <th>3</th>\n",
       "      <td>0520</td>\n",
       "      <td>Wilhelmstadt / Staaken</td>\n",
       "      <td>227</td>\n",
       "    </tr>\n",
       "    <tr>\n",
       "      <th>4</th>\n",
       "      <td>0810</td>\n",
       "      <td>Neukölln</td>\n",
       "      <td>220</td>\n",
       "    </tr>\n",
       "    <tr>\n",
       "      <th>5</th>\n",
       "      <td>0920</td>\n",
       "      <td>Treptow-Köpenick 2</td>\n",
       "      <td>217</td>\n",
       "    </tr>\n",
       "    <tr>\n",
       "      <th>6</th>\n",
       "      <td>0630</td>\n",
       "      <td>Zehlendorf Süd/Lichterfelde West</td>\n",
       "      <td>214</td>\n",
       "    </tr>\n",
       "    <tr>\n",
       "      <th>7</th>\n",
       "      <td>1010</td>\n",
       "      <td>Marzahn</td>\n",
       "      <td>204</td>\n",
       "    </tr>\n",
       "    <tr>\n",
       "      <th>8</th>\n",
       "      <td>0740</td>\n",
       "      <td>Tempelhof</td>\n",
       "      <td>201</td>\n",
       "    </tr>\n",
       "    <tr>\n",
       "      <th>9</th>\n",
       "      <td>0430</td>\n",
       "      <td>Charlottenburg Zentrum</td>\n",
       "      <td>194</td>\n",
       "    </tr>\n",
       "    <tr>\n",
       "      <th>10</th>\n",
       "      <td>0450</td>\n",
       "      <td>Wilmersdorf Zentrum</td>\n",
       "      <td>193</td>\n",
       "    </tr>\n",
       "    <tr>\n",
       "      <th>11</th>\n",
       "      <td>1040</td>\n",
       "      <td>Kaulsdorf/Mahlsdorf</td>\n",
       "      <td>190</td>\n",
       "    </tr>\n",
       "    <tr>\n",
       "      <th>12</th>\n",
       "      <td>0640</td>\n",
       "      <td>Zehlendorf Nord/Wannsee</td>\n",
       "      <td>186</td>\n",
       "    </tr>\n",
       "    <tr>\n",
       "      <th>13</th>\n",
       "      <td>0820</td>\n",
       "      <td>Britz/Buckow</td>\n",
       "      <td>178</td>\n",
       "    </tr>\n",
       "    <tr>\n",
       "      <th>14</th>\n",
       "      <td>0120</td>\n",
       "      <td>Moabit</td>\n",
       "      <td>176</td>\n",
       "    </tr>\n",
       "    <tr>\n",
       "      <th>15</th>\n",
       "      <td>0620</td>\n",
       "      <td>Lankwitz/Lichterfelde Ost</td>\n",
       "      <td>166</td>\n",
       "    </tr>\n",
       "    <tr>\n",
       "      <th>16</th>\n",
       "      <td>0530</td>\n",
       "      <td>Haselhorst / Siemensstadt</td>\n",
       "      <td>165</td>\n",
       "    </tr>\n",
       "    <tr>\n",
       "      <th>17</th>\n",
       "      <td>1250</td>\n",
       "      <td>Wittenau/Borsigwalde</td>\n",
       "      <td>165</td>\n",
       "    </tr>\n",
       "    <tr>\n",
       "      <th>18</th>\n",
       "      <td>1220</td>\n",
       "      <td>Tegel</td>\n",
       "      <td>163</td>\n",
       "    </tr>\n",
       "    <tr>\n",
       "      <th>19</th>\n",
       "      <td>0930</td>\n",
       "      <td>Treptow-Köpenick 3</td>\n",
       "      <td>161</td>\n",
       "    </tr>\n",
       "  </tbody>\n",
       "</table>\n",
       "</div>"
      ],
      "text/plain": [
       "   pgr_id                          pgr_name  total_anual_yield_gwha\n",
       "0    0110                           Zentrum                     303\n",
       "1    0760         Marienfelde / Lichtenrade                     279\n",
       "2    0510              Spandau Mitte / Nord                     233\n",
       "3    0520            Wilhelmstadt / Staaken                     227\n",
       "4    0810                          Neukölln                     220\n",
       "5    0920                Treptow-Köpenick 2                     217\n",
       "6    0630  Zehlendorf Süd/Lichterfelde West                     214\n",
       "7    1010                           Marzahn                     204\n",
       "8    0740                         Tempelhof                     201\n",
       "9    0430            Charlottenburg Zentrum                     194\n",
       "10   0450               Wilmersdorf Zentrum                     193\n",
       "11   1040               Kaulsdorf/Mahlsdorf                     190\n",
       "12   0640           Zehlendorf Nord/Wannsee                     186\n",
       "13   0820                      Britz/Buckow                     178\n",
       "14   0120                            Moabit                     176\n",
       "15   0620         Lankwitz/Lichterfelde Ost                     166\n",
       "16   0530         Haselhorst / Siemensstadt                     165\n",
       "17   1250              Wittenau/Borsigwalde                     165\n",
       "18   1220                             Tegel                     163\n",
       "19   0930                Treptow-Köpenick 3                     161"
      ]
     },
     "execution_count": 82,
     "metadata": {},
     "output_type": "execute_result"
    }
   ],
   "source": [
    "#subset\n",
    "solarPotential = admin_areas[[\"pgr_id\", \"pgr_name\", \"total_anual_yield_gwha\"]]\n",
    "\n",
    "#sort values descending\n",
    "solarPotential.sort_values(by=\"total_anual_yield_gwha\", ascending=False, inplace=True)\n",
    "solarPotential.reset_index(drop=True, inplace=True)\n",
    "\n",
    "solarPotential.head(20)"
   ]
  },
  {
   "cell_type": "code",
   "execution_count": 83,
   "metadata": {},
   "outputs": [],
   "source": [
    "#csv\n",
    "solarPotential.to_csv(\"../data/csv/solarPotential.csv\", index=False)"
   ]
  }
 ],
 "metadata": {
  "kernelspec": {
   "display_name": "myenv",
   "language": "python",
   "name": "python3"
  },
  "language_info": {
   "codemirror_mode": {
    "name": "ipython",
    "version": 3
   },
   "file_extension": ".py",
   "mimetype": "text/x-python",
   "name": "python",
   "nbconvert_exporter": "python",
   "pygments_lexer": "ipython3",
   "version": "3.12.7"
  }
 },
 "nbformat": 4,
 "nbformat_minor": 2
}
