{
 "cells": [
  {
   "cell_type": "code",
   "execution_count": 1,
   "metadata": {},
   "outputs": [
    {
     "data": {
      "text/plain": [
       "'\\n------------------------------------------------------------------------------\\nAbout\\nIn this data analysis, the total gross roof area [m²] suitable for photovoltaics \\nis calculated for each admin area.\\n------------------------------------------------------------------------------\\n'"
      ]
     },
     "execution_count": 1,
     "metadata": {},
     "output_type": "execute_result"
    }
   ],
   "source": [
    "\"\"\"\n",
    "------------------------------------------------------------------------------\n",
    "About\n",
    "In this data analysis, the total gross roof area [m²] suitable for photovoltaics \n",
    "is calculated for each admin area.\n",
    "------------------------------------------------------------------------------\n",
    "\"\"\"\n"
   ]
  },
  {
   "cell_type": "code",
   "execution_count": 2,
   "metadata": {},
   "outputs": [],
   "source": [
    "\"\"\"\n",
    "------------------------------------------------------------------------------\n",
    "Libraries\n",
    "------------------------------------------------------------------------------\n",
    "\"\"\"\n",
    "\n",
    "import pandas as pd\n",
    "import geopandas as gpd"
   ]
  },
  {
   "cell_type": "code",
   "execution_count": 3,
   "metadata": {},
   "outputs": [],
   "source": [
    "\"\"\"\n",
    "------------------------------------------------------------------------------\n",
    "Load GeoJson files\n",
    "------------------------------------------------------------------------------\n",
    "\"\"\"\n",
    "\n",
    "admin_areas = gpd.read_file(\"../data/raw/Prognoseräume.json\")\n",
    "\n",
    "solarPotential = gpd.read_file(\"../data/raw/Solarpotenzial.geojson\")"
   ]
  },
  {
   "cell_type": "code",
   "execution_count": 4,
   "metadata": {},
   "outputs": [
    {
     "data": {
      "text/html": [
       "<div>\n",
       "<style scoped>\n",
       "    .dataframe tbody tr th:only-of-type {\n",
       "        vertical-align: middle;\n",
       "    }\n",
       "\n",
       "    .dataframe tbody tr th {\n",
       "        vertical-align: top;\n",
       "    }\n",
       "\n",
       "    .dataframe thead th {\n",
       "        text-align: right;\n",
       "    }\n",
       "</style>\n",
       "<table border=\"1\" class=\"dataframe\">\n",
       "  <thead>\n",
       "    <tr style=\"text-align: right;\">\n",
       "      <th></th>\n",
       "      <th>id</th>\n",
       "      <th>geb_id</th>\n",
       "      <th>sum_modarea</th>\n",
       "      <th>sum_str_19_5</th>\n",
       "      <th>sum_co2_19_5</th>\n",
       "      <th>sum_kw_19_5</th>\n",
       "      <th>sum_anzahl_0</th>\n",
       "      <th>lage</th>\n",
       "      <th>geb_funktion</th>\n",
       "      <th>geometry</th>\n",
       "    </tr>\n",
       "  </thead>\n",
       "  <tbody>\n",
       "    <tr>\n",
       "      <th>0</th>\n",
       "      <td>4</td>\n",
       "      <td>Geb4047ts0202_a</td>\n",
       "      <td>NaN</td>\n",
       "      <td>NaN</td>\n",
       "      <td>NaN</td>\n",
       "      <td>NaN</td>\n",
       "      <td>NaN</td>\n",
       "      <td>Beusselstraße 44R</td>\n",
       "      <td>Lagerhalle, Lagerschuppen, Lagerhaus</td>\n",
       "      <td>MULTIPOLYGON (((386541.6 5821684.175, 386542.5...</td>\n",
       "    </tr>\n",
       "    <tr>\n",
       "      <th>1</th>\n",
       "      <td>18</td>\n",
       "      <td>Geb110278ts0202_a</td>\n",
       "      <td>13.0</td>\n",
       "      <td>3106.0</td>\n",
       "      <td>1690.0</td>\n",
       "      <td>3.20</td>\n",
       "      <td>10.0</td>\n",
       "      <td>Heckerdamm 197</td>\n",
       "      <td>Wohnhaus</td>\n",
       "      <td>MULTIPOLYGON (((385488.209 5822180.221, 385488...</td>\n",
       "    </tr>\n",
       "    <tr>\n",
       "      <th>2</th>\n",
       "      <td>51</td>\n",
       "      <td>Geb1462ts0202_a</td>\n",
       "      <td>880.0</td>\n",
       "      <td>88420.0</td>\n",
       "      <td>48101.0</td>\n",
       "      <td>118.08</td>\n",
       "      <td>369.0</td>\n",
       "      <td>Philippstraße 13</td>\n",
       "      <td>Hochschulgebäude (Fachhochschule, Universität)</td>\n",
       "      <td>MULTIPOLYGON (((390368.993 5820760.62, 390370....</td>\n",
       "    </tr>\n",
       "    <tr>\n",
       "      <th>3</th>\n",
       "      <td>61</td>\n",
       "      <td>Geb109923ts0202_a</td>\n",
       "      <td>NaN</td>\n",
       "      <td>NaN</td>\n",
       "      <td>NaN</td>\n",
       "      <td>NaN</td>\n",
       "      <td>NaN</td>\n",
       "      <td>None</td>\n",
       "      <td>Gebäudefunktion unbekannt</td>\n",
       "      <td>MULTIPOLYGON (((385602.265 5820331.048, 385594...</td>\n",
       "    </tr>\n",
       "    <tr>\n",
       "      <th>4</th>\n",
       "      <td>76</td>\n",
       "      <td>Geb102147ts0202_a</td>\n",
       "      <td>NaN</td>\n",
       "      <td>NaN</td>\n",
       "      <td>NaN</td>\n",
       "      <td>NaN</td>\n",
       "      <td>NaN</td>\n",
       "      <td>None</td>\n",
       "      <td>Gebäudefunktion unbekannt</td>\n",
       "      <td>MULTIPOLYGON (((385612.521 5820344.426, 385613...</td>\n",
       "    </tr>\n",
       "  </tbody>\n",
       "</table>\n",
       "</div>"
      ],
      "text/plain": [
       "   id             geb_id  sum_modarea  sum_str_19_5  sum_co2_19_5  \\\n",
       "0   4    Geb4047ts0202_a          NaN           NaN           NaN   \n",
       "1  18  Geb110278ts0202_a         13.0        3106.0        1690.0   \n",
       "2  51    Geb1462ts0202_a        880.0       88420.0       48101.0   \n",
       "3  61  Geb109923ts0202_a          NaN           NaN           NaN   \n",
       "4  76  Geb102147ts0202_a          NaN           NaN           NaN   \n",
       "\n",
       "   sum_kw_19_5  sum_anzahl_0               lage  \\\n",
       "0          NaN           NaN  Beusselstraße 44R   \n",
       "1         3.20          10.0     Heckerdamm 197   \n",
       "2       118.08         369.0   Philippstraße 13   \n",
       "3          NaN           NaN               None   \n",
       "4          NaN           NaN               None   \n",
       "\n",
       "                                     geb_funktion  \\\n",
       "0            Lagerhalle, Lagerschuppen, Lagerhaus   \n",
       "1                                        Wohnhaus   \n",
       "2  Hochschulgebäude (Fachhochschule, Universität)   \n",
       "3                       Gebäudefunktion unbekannt   \n",
       "4                       Gebäudefunktion unbekannt   \n",
       "\n",
       "                                            geometry  \n",
       "0  MULTIPOLYGON (((386541.6 5821684.175, 386542.5...  \n",
       "1  MULTIPOLYGON (((385488.209 5822180.221, 385488...  \n",
       "2  MULTIPOLYGON (((390368.993 5820760.62, 390370....  \n",
       "3  MULTIPOLYGON (((385602.265 5820331.048, 385594...  \n",
       "4  MULTIPOLYGON (((385612.521 5820344.426, 385613...  "
      ]
     },
     "execution_count": 4,
     "metadata": {},
     "output_type": "execute_result"
    }
   ],
   "source": [
    "solarPotential.head()"
   ]
  },
  {
   "cell_type": "code",
   "execution_count": 5,
   "metadata": {},
   "outputs": [
    {
     "data": {
      "text/plain": [
       "'\\n------------------------------------------------------------------------------\\ngeb_id\\t        Schlüssel\\nlage_\\t        Adresse\\ngeb_funktion\\tGebäudefunktion\\nsum_kw_19_5\\t    Installierbare Leistung [kWP]\\nsum_anzahl_0\\tAnzahl Standardmodule\\nsum_modarea\\t    Geeignette Brutto-Dachfläche [m²]\\nsum_str_19_5\\tMöglicher Ertrag pro Jahr [kWh/a]\\nsum_co2_19_5\\tCO2-Einsparung pro Jahr [kg/a]\\n------------------------------------------------------------------------------\\n'"
      ]
     },
     "execution_count": 5,
     "metadata": {},
     "output_type": "execute_result"
    }
   ],
   "source": [
    "\"\"\"\n",
    "------------------------------------------------------------------------------\n",
    "geb_id\t        Schlüssel\n",
    "lage_\t        Adresse\n",
    "geb_funktion\tGebäudefunktion\n",
    "sum_kw_19_5\t    Installierbare Leistung [kWP]\n",
    "sum_anzahl_0\tAnzahl Standardmodule\n",
    "sum_modarea\t    Geeignette Brutto-Dachfläche [m²]\n",
    "sum_str_19_5\tMöglicher Ertrag pro Jahr [kWh/a]\n",
    "sum_co2_19_5\tCO2-Einsparung pro Jahr [kg/a]\n",
    "------------------------------------------------------------------------------\n",
    "\"\"\"\n"
   ]
  },
  {
   "cell_type": "code",
   "execution_count": 6,
   "metadata": {},
   "outputs": [
    {
     "data": {
      "text/html": [
       "<div>\n",
       "<style scoped>\n",
       "    .dataframe tbody tr th:only-of-type {\n",
       "        vertical-align: middle;\n",
       "    }\n",
       "\n",
       "    .dataframe tbody tr th {\n",
       "        vertical-align: top;\n",
       "    }\n",
       "\n",
       "    .dataframe thead th {\n",
       "        text-align: right;\n",
       "    }\n",
       "</style>\n",
       "<table border=\"1\" class=\"dataframe\">\n",
       "  <thead>\n",
       "    <tr style=\"text-align: right;\">\n",
       "      <th></th>\n",
       "      <th>id</th>\n",
       "      <th>geb_id</th>\n",
       "      <th>sum_modarea</th>\n",
       "      <th>sum_str_19_5</th>\n",
       "      <th>sum_co2_19_5</th>\n",
       "      <th>sum_kw_19_5</th>\n",
       "      <th>sum_anzahl_0</th>\n",
       "      <th>lage</th>\n",
       "      <th>geb_funktion</th>\n",
       "      <th>centroid</th>\n",
       "    </tr>\n",
       "  </thead>\n",
       "  <tbody>\n",
       "    <tr>\n",
       "      <th>0</th>\n",
       "      <td>4</td>\n",
       "      <td>Geb4047ts0202_a</td>\n",
       "      <td>NaN</td>\n",
       "      <td>NaN</td>\n",
       "      <td>NaN</td>\n",
       "      <td>NaN</td>\n",
       "      <td>NaN</td>\n",
       "      <td>Beusselstraße 44R</td>\n",
       "      <td>Lagerhalle, Lagerschuppen, Lagerhaus</td>\n",
       "      <td>POINT (386542.471 5821682.891)</td>\n",
       "    </tr>\n",
       "    <tr>\n",
       "      <th>1</th>\n",
       "      <td>18</td>\n",
       "      <td>Geb110278ts0202_a</td>\n",
       "      <td>13.0</td>\n",
       "      <td>3106.0</td>\n",
       "      <td>1690.0</td>\n",
       "      <td>3.20</td>\n",
       "      <td>10.0</td>\n",
       "      <td>Heckerdamm 197</td>\n",
       "      <td>Wohnhaus</td>\n",
       "      <td>POINT (385491.352 5822183.287)</td>\n",
       "    </tr>\n",
       "    <tr>\n",
       "      <th>2</th>\n",
       "      <td>51</td>\n",
       "      <td>Geb1462ts0202_a</td>\n",
       "      <td>880.0</td>\n",
       "      <td>88420.0</td>\n",
       "      <td>48101.0</td>\n",
       "      <td>118.08</td>\n",
       "      <td>369.0</td>\n",
       "      <td>Philippstraße 13</td>\n",
       "      <td>Hochschulgebäude (Fachhochschule, Universität)</td>\n",
       "      <td>POINT (390361.731 5820796.957)</td>\n",
       "    </tr>\n",
       "    <tr>\n",
       "      <th>3</th>\n",
       "      <td>61</td>\n",
       "      <td>Geb109923ts0202_a</td>\n",
       "      <td>NaN</td>\n",
       "      <td>NaN</td>\n",
       "      <td>NaN</td>\n",
       "      <td>NaN</td>\n",
       "      <td>NaN</td>\n",
       "      <td>None</td>\n",
       "      <td>Gebäudefunktion unbekannt</td>\n",
       "      <td>POINT (385599.015 5820334.119)</td>\n",
       "    </tr>\n",
       "    <tr>\n",
       "      <th>4</th>\n",
       "      <td>76</td>\n",
       "      <td>Geb102147ts0202_a</td>\n",
       "      <td>NaN</td>\n",
       "      <td>NaN</td>\n",
       "      <td>NaN</td>\n",
       "      <td>NaN</td>\n",
       "      <td>NaN</td>\n",
       "      <td>None</td>\n",
       "      <td>Gebäudefunktion unbekannt</td>\n",
       "      <td>POINT (385611.023 5820337.078)</td>\n",
       "    </tr>\n",
       "  </tbody>\n",
       "</table>\n",
       "</div>"
      ],
      "text/plain": [
       "   id             geb_id  sum_modarea  sum_str_19_5  sum_co2_19_5  \\\n",
       "0   4    Geb4047ts0202_a          NaN           NaN           NaN   \n",
       "1  18  Geb110278ts0202_a         13.0        3106.0        1690.0   \n",
       "2  51    Geb1462ts0202_a        880.0       88420.0       48101.0   \n",
       "3  61  Geb109923ts0202_a          NaN           NaN           NaN   \n",
       "4  76  Geb102147ts0202_a          NaN           NaN           NaN   \n",
       "\n",
       "   sum_kw_19_5  sum_anzahl_0               lage  \\\n",
       "0          NaN           NaN  Beusselstraße 44R   \n",
       "1         3.20          10.0     Heckerdamm 197   \n",
       "2       118.08         369.0   Philippstraße 13   \n",
       "3          NaN           NaN               None   \n",
       "4          NaN           NaN               None   \n",
       "\n",
       "                                     geb_funktion  \\\n",
       "0            Lagerhalle, Lagerschuppen, Lagerhaus   \n",
       "1                                        Wohnhaus   \n",
       "2  Hochschulgebäude (Fachhochschule, Universität)   \n",
       "3                       Gebäudefunktion unbekannt   \n",
       "4                       Gebäudefunktion unbekannt   \n",
       "\n",
       "                         centroid  \n",
       "0  POINT (386542.471 5821682.891)  \n",
       "1  POINT (385491.352 5822183.287)  \n",
       "2  POINT (390361.731 5820796.957)  \n",
       "3  POINT (385599.015 5820334.119)  \n",
       "4  POINT (385611.023 5820337.078)  "
      ]
     },
     "execution_count": 6,
     "metadata": {},
     "output_type": "execute_result"
    }
   ],
   "source": [
    "#convert polygon into centroid\n",
    "solarPotential[\"centroid\"] = solarPotential.geometry.centroid\n",
    "gdf_solarPotential = solarPotential.drop(columns = \"geometry\")\n",
    "\n",
    "gdf_solarPotential = gdf_solarPotential.set_geometry(\"centroid\") \n",
    "\n",
    "gdf_solarPotential.head()"
   ]
  },
  {
   "cell_type": "code",
   "execution_count": 7,
   "metadata": {},
   "outputs": [
    {
     "name": "stdout",
     "output_type": "stream",
     "text": [
      "Empty geometry in df_Solarpotential: 24\n",
      "Invalid geometry in df_Solarpotential: 0\n"
     ]
    }
   ],
   "source": [
    "\"\"\"\n",
    "------------------------------------------------------------------------------\n",
    "Checking invalid geometries\n",
    "------------------------------------------------------------------------------\n",
    "\"\"\"\n",
    "\n",
    "#Check the combined dataframe for empty or invalid geometries\n",
    "print(f\"Empty geometry in gdf_solarPotential: {len(gdf_solarPotential[gdf_solarPotential.is_empty])}\")\n",
    "print(f\"Invalid geometry in gdf_solarPotential: {len(gdf_solarPotential[~gdf_solarPotential.is_valid])}\")"
   ]
  },
  {
   "cell_type": "code",
   "execution_count": 8,
   "metadata": {},
   "outputs": [
    {
     "data": {
      "text/plain": [
       "(537332, 10)"
      ]
     },
     "execution_count": 8,
     "metadata": {},
     "output_type": "execute_result"
    }
   ],
   "source": [
    "\"\"\"\n",
    "------------------------------------------------------------------------------\n",
    "Data exploration\n",
    "------------------------------------------------------------------------------\n",
    "\"\"\"\n",
    "\n",
    "gdf_solarPotential.shape"
   ]
  },
  {
   "cell_type": "code",
   "execution_count": 9,
   "metadata": {},
   "outputs": [
    {
     "data": {
      "text/plain": [
       "id                   0\n",
       "geb_id            1542\n",
       "sum_modarea     116220\n",
       "sum_str_19_5    116220\n",
       "sum_co2_19_5    116220\n",
       "sum_kw_19_5     116220\n",
       "sum_anzahl_0    116220\n",
       "lage               978\n",
       "geb_funktion         0\n",
       "centroid             0\n",
       "dtype: int64"
      ]
     },
     "execution_count": 9,
     "metadata": {},
     "output_type": "execute_result"
    }
   ],
   "source": [
    "gdf_solarPotential.isna().sum()"
   ]
  },
  {
   "cell_type": "code",
   "execution_count": 10,
   "metadata": {},
   "outputs": [],
   "source": [
    "gdf_solarPotential.dropna(inplace=True)"
   ]
  },
  {
   "cell_type": "code",
   "execution_count": 11,
   "metadata": {},
   "outputs": [
    {
     "data": {
      "text/plain": [
       "(420529, 10)"
      ]
     },
     "execution_count": 11,
     "metadata": {},
     "output_type": "execute_result"
    }
   ],
   "source": [
    "gdf_solarPotential.shape"
   ]
  },
  {
   "cell_type": "code",
   "execution_count": 12,
   "metadata": {},
   "outputs": [
    {
     "data": {
      "text/plain": [
       "id                 int32\n",
       "geb_id            object\n",
       "sum_modarea      float64\n",
       "sum_str_19_5     float64\n",
       "sum_co2_19_5     float64\n",
       "sum_kw_19_5      float64\n",
       "sum_anzahl_0     float64\n",
       "lage              object\n",
       "geb_funktion      object\n",
       "centroid        geometry\n",
       "dtype: object"
      ]
     },
     "execution_count": 12,
     "metadata": {},
     "output_type": "execute_result"
    }
   ],
   "source": [
    "gdf_solarPotential.dtypes"
   ]
  },
  {
   "cell_type": "code",
   "execution_count": 13,
   "metadata": {},
   "outputs": [],
   "source": [
    "#subset\n",
    "cols = [\"sum_modarea\", \"sum_str_19_5\", \"sum_co2_19_5\", \"sum_kw_19_5\", \"sum_anzahl_0\"]\n",
    "#convert to int\n",
    "gdf_solarPotential[cols] = gdf_solarPotential[cols].astype(int)"
   ]
  },
  {
   "cell_type": "code",
   "execution_count": 14,
   "metadata": {},
   "outputs": [
    {
     "data": {
      "text/plain": [
       "<Axes: >"
      ]
     },
     "execution_count": 14,
     "metadata": {},
     "output_type": "execute_result"
    },
    {
     "data": {
      "image/png": "[encoded data removed]",
      "text/plain": [
       "<Figure size 640x480 with 1 Axes>"
      ]
     },
     "metadata": {},
     "output_type": "display_data"
    }
   ],
   "source": [
    "gdf_solarPotential.plot()"
   ]
  },
  {
   "cell_type": "code",
   "execution_count": 15,
   "metadata": {},
   "outputs": [
    {
     "name": "stdout",
     "output_type": "stream",
     "text": [
      "EPSG:4326\n",
      "EPSG:25833\n"
     ]
    }
   ],
   "source": [
    "\"\"\"\n",
    "------------------------------------------------------------------------------\n",
    "CSR (coordinate reference system)\n",
    "------------------------------------------------------------------------------\n",
    "\"\"\"\n",
    "\n",
    "#Check CRS\n",
    "print(admin_areas.crs)\n",
    "print(gdf_solarPotential.crs)"
   ]
  },
  {
   "cell_type": "code",
   "execution_count": 16,
   "metadata": {},
   "outputs": [],
   "source": [
    "#Ensure both GeoDataFrames have the same CRS \n",
    "if admin_areas.crs != gdf_solarPotential.crs:\n",
    "    gdf_solarPotential = gdf_solarPotential.to_crs(admin_areas.crs)"
   ]
  },
  {
   "cell_type": "code",
   "execution_count": 19,
   "metadata": {},
   "outputs": [],
   "source": [
    "\"\"\"\n",
    "------------------------------------------------------------------------------\n",
    "Functions\n",
    "solar potential by admin area\n",
    "sum_str_19_5: Potential annual yield [kWh/a]\n",
    "------------------------------------------------------------------------------\n",
    "\"\"\"\n",
    "\n",
    "\n",
    "def calculate_solar_potential(admin_area, gdf_solarPotential):\n",
    "    #find intersections between the solar potential dataframe and admin areas\n",
    "    intersections = gdf_solarPotential[gdf_solarPotential.intersects(admin_area.geometry)]\n",
    "    \n",
    "    #calculate the total sum of the potential annual yield [kWh/a]\n",
    "    total_anual_yield_kwa = intersections[\"sum_str_19_5\"].sum()\n",
    "\n",
    "    print(f\"Admin Area: {admin_area[\"pgr_name\"]}, Total anual yield in kw/a: {total_anual_yield_kwa}\")\n",
    "    \n",
    "    return  total_anual_yield_kwa\n",
    "\n",
    "\n"
   ]
  },
  {
   "cell_type": "code",
   "execution_count": 20,
   "metadata": {},
   "outputs": [
    {
     "name": "stdout",
     "output_type": "stream",
     "text": [
      "Admin Area: Südlicher Prenzlauer Berg, Total anual yield in kw/a: 72236795\n",
      "Admin Area: Kreuzberg Süd, Total anual yield in kw/a: 97948901\n",
      "Admin Area: Marienfelde / Lichtenrade, Total anual yield in kw/a: 279482841\n",
      "Admin Area: Wilhelmstadt / Staaken, Total anual yield in kw/a: 226738687\n",
      "Admin Area: Nördliches Weißensee, Total anual yield in kw/a: 122204229\n",
      "Admin Area: Tempelhof, Total anual yield in kw/a: 200887325\n",
      "Admin Area: Lichtenberg Nord, Total anual yield in kw/a: 155324369\n",
      "Admin Area: Lichtenberg Mitte, Total anual yield in kw/a: 95627659\n",
      "Admin Area: Hellersdorf, Total anual yield in kw/a: 94059732\n",
      "Admin Area: Buch, Total anual yield in kw/a: 56088609\n",
      "Admin Area: Hohenschönhausen Nord, Total anual yield in kw/a: 80508983\n",
      "Admin Area: Kaulsdorf/Mahlsdorf, Total anual yield in kw/a: 190288332\n",
      "Admin Area: Treptow-Köpenick 1, Total anual yield in kw/a: 129205562\n",
      "Admin Area: Tegel, Total anual yield in kw/a: 162612729\n",
      "Admin Area: Mariendorf, Total anual yield in kw/a: 132641917\n",
      "Admin Area: Friedrichshain Ost, Total anual yield in kw/a: 97886059\n",
      "Admin Area: Nördlicher Prenzlauer Berg, Total anual yield in kw/a: 142966508\n",
      "Admin Area: Charlottenburg Nord, Total anual yield in kw/a: 42450479\n",
      "Admin Area: Lankwitz/Lichterfelde Ost, Total anual yield in kw/a: 166461497\n",
      "Admin Area: Schöneberg Nord, Total anual yield in kw/a: 65161713\n",
      "Admin Area: Neukölln, Total anual yield in kw/a: 219884036\n",
      "Admin Area: Zehlendorf Nord/Wannsee, Total anual yield in kw/a: 185739321\n",
      "Admin Area: Wilmersdorf Süd, Total anual yield in kw/a: 109506815\n",
      "Admin Area: Grüner Norden, Total anual yield in kw/a: 146902869\n",
      "Admin Area: Zentrum, Total anual yield in kw/a: 302985574\n",
      "Admin Area: Schöneberg Süd, Total anual yield in kw/a: 79944253\n",
      "Admin Area: Gesundbrunnen, Total anual yield in kw/a: 100969489\n",
      "Admin Area: Gatow / Kladow, Total anual yield in kw/a: 70837247\n",
      "Admin Area: Nördliches Pankow, Total anual yield in kw/a: 147955144\n",
      "Admin Area: Treptow-Köpenick 5, Total anual yield in kw/a: 150893642\n",
      "Admin Area: Buckow Nord/Rudow, Total anual yield in kw/a: 149227165\n",
      "Admin Area: Moabit, Total anual yield in kw/a: 175618599\n",
      "Admin Area: Gropiusstadt, Total anual yield in kw/a: 38152880\n",
      "Admin Area: Lichtenberg Süd, Total anual yield in kw/a: 80955038\n",
      "Admin Area: Treptow-Köpenick 3, Total anual yield in kw/a: 160839752\n",
      "Admin Area: Kreuzberg Ost, Total anual yield in kw/a: 62224895\n",
      "Admin Area: Treptow-Köpenick 2, Total anual yield in kw/a: 217377622\n",
      "Admin Area: Spandau Mitte / Nord, Total anual yield in kw/a: 233246799\n",
      "Admin Area: Wittenau/Borsigwalde, Total anual yield in kw/a: 164653828\n",
      "Admin Area: Biesdorf, Total anual yield in kw/a: 100079566\n",
      "Admin Area: Wilmersdorf Zentrum, Total anual yield in kw/a: 192859988\n",
      "Admin Area: Märkisches Viertel, Total anual yield in kw/a: 73221945\n",
      "Admin Area: Kreuzberg Nord, Total anual yield in kw/a: 56590113\n",
      "Admin Area: Haselhorst / Siemensstadt, Total anual yield in kw/a: 165332639\n",
      "Admin Area: Hohenschönhausen Süd, Total anual yield in kw/a: 130496528\n",
      "Admin Area: Zehlendorf Süd/Lichterfelde West, Total anual yield in kw/a: 213559386\n",
      "Admin Area: Südliches Pankow, Total anual yield in kw/a: 158217869\n",
      "Admin Area: Steglitz, Total anual yield in kw/a: 109004448\n",
      "Admin Area: Friedrichshain West, Total anual yield in kw/a: 70615138\n",
      "Admin Area: Wedding, Total anual yield in kw/a: 136258419\n",
      "Admin Area: Britz/Buckow, Total anual yield in kw/a: 177790235\n",
      "Admin Area: Charlottenburg Zentrum, Total anual yield in kw/a: 193671127\n",
      "Admin Area: Reinickendorf Ost, Total anual yield in kw/a: 126371559\n",
      "Admin Area: Treptow-Köpenick 4, Total anual yield in kw/a: 80983695\n",
      "Admin Area: Südliches Weißensee, Total anual yield in kw/a: 125249876\n",
      "Admin Area: Charlottenburg West, Total anual yield in kw/a: 127563371\n",
      "Admin Area: Friedenau, Total anual yield in kw/a: 71616084\n",
      "Admin Area: Marzahn, Total anual yield in kw/a: 203553759\n"
     ]
    }
   ],
   "source": [
    "#calculation of total_sum_modarea for each administrative area\n",
    "admin_areas[\"total_anual_yield_kwa\"] = admin_areas.apply(\n",
    "    lambda row: calculate_solar_potential(row, gdf_solarPotential), axis=1\n",
    ")\n"
   ]
  },
  {
   "cell_type": "code",
   "execution_count": 21,
   "metadata": {},
   "outputs": [
    {
     "name": "stderr",
     "output_type": "stream",
     "text": [
      "/var/folders/_f/022l68353h9c2pr_3t55ns1m0000gn/T/ipykernel_7949/4248046271.py:4: SettingWithCopyWarning: \n",
      "A value is trying to be set on a copy of a slice from a DataFrame\n",
      "\n",
      "See the caveats in the documentation: https://pandas.pydata.org/pandas-docs/stable/user_guide/indexing.html#returning-a-view-versus-a-copy\n",
      "  df_Solarpotential_m2.sort_values(by=\"total_anual_yield_kwa\", ascending=False, inplace=True)\n"
     ]
    },
    {
     "data": {
      "text/html": [
       "<div>\n",
       "<style scoped>\n",
       "    .dataframe tbody tr th:only-of-type {\n",
       "        vertical-align: middle;\n",
       "    }\n",
       "\n",
       "    .dataframe tbody tr th {\n",
       "        vertical-align: top;\n",
       "    }\n",
       "\n",
       "    .dataframe thead th {\n",
       "        text-align: right;\n",
       "    }\n",
       "</style>\n",
       "<table border=\"1\" class=\"dataframe\">\n",
       "  <thead>\n",
       "    <tr style=\"text-align: right;\">\n",
       "      <th></th>\n",
       "      <th>pgr_id</th>\n",
       "      <th>pgr_name</th>\n",
       "      <th>total_anual_yield_kwa</th>\n",
       "    </tr>\n",
       "  </thead>\n",
       "  <tbody>\n",
       "    <tr>\n",
       "      <th>0</th>\n",
       "      <td>0110</td>\n",
       "      <td>Zentrum</td>\n",
       "      <td>302985574</td>\n",
       "    </tr>\n",
       "    <tr>\n",
       "      <th>1</th>\n",
       "      <td>0760</td>\n",
       "      <td>Marienfelde / Lichtenrade</td>\n",
       "      <td>279482841</td>\n",
       "    </tr>\n",
       "    <tr>\n",
       "      <th>2</th>\n",
       "      <td>0510</td>\n",
       "      <td>Spandau Mitte / Nord</td>\n",
       "      <td>233246799</td>\n",
       "    </tr>\n",
       "    <tr>\n",
       "      <th>3</th>\n",
       "      <td>0520</td>\n",
       "      <td>Wilhelmstadt / Staaken</td>\n",
       "      <td>226738687</td>\n",
       "    </tr>\n",
       "    <tr>\n",
       "      <th>4</th>\n",
       "      <td>0810</td>\n",
       "      <td>Neukölln</td>\n",
       "      <td>219884036</td>\n",
       "    </tr>\n",
       "    <tr>\n",
       "      <th>5</th>\n",
       "      <td>0920</td>\n",
       "      <td>Treptow-Köpenick 2</td>\n",
       "      <td>217377622</td>\n",
       "    </tr>\n",
       "    <tr>\n",
       "      <th>6</th>\n",
       "      <td>0630</td>\n",
       "      <td>Zehlendorf Süd/Lichterfelde West</td>\n",
       "      <td>213559386</td>\n",
       "    </tr>\n",
       "    <tr>\n",
       "      <th>7</th>\n",
       "      <td>1010</td>\n",
       "      <td>Marzahn</td>\n",
       "      <td>203553759</td>\n",
       "    </tr>\n",
       "    <tr>\n",
       "      <th>8</th>\n",
       "      <td>0740</td>\n",
       "      <td>Tempelhof</td>\n",
       "      <td>200887325</td>\n",
       "    </tr>\n",
       "    <tr>\n",
       "      <th>9</th>\n",
       "      <td>0430</td>\n",
       "      <td>Charlottenburg Zentrum</td>\n",
       "      <td>193671127</td>\n",
       "    </tr>\n",
       "    <tr>\n",
       "      <th>10</th>\n",
       "      <td>0450</td>\n",
       "      <td>Wilmersdorf Zentrum</td>\n",
       "      <td>192859988</td>\n",
       "    </tr>\n",
       "    <tr>\n",
       "      <th>11</th>\n",
       "      <td>1040</td>\n",
       "      <td>Kaulsdorf/Mahlsdorf</td>\n",
       "      <td>190288332</td>\n",
       "    </tr>\n",
       "    <tr>\n",
       "      <th>12</th>\n",
       "      <td>0640</td>\n",
       "      <td>Zehlendorf Nord/Wannsee</td>\n",
       "      <td>185739321</td>\n",
       "    </tr>\n",
       "    <tr>\n",
       "      <th>13</th>\n",
       "      <td>0820</td>\n",
       "      <td>Britz/Buckow</td>\n",
       "      <td>177790235</td>\n",
       "    </tr>\n",
       "    <tr>\n",
       "      <th>14</th>\n",
       "      <td>0120</td>\n",
       "      <td>Moabit</td>\n",
       "      <td>175618599</td>\n",
       "    </tr>\n",
       "    <tr>\n",
       "      <th>15</th>\n",
       "      <td>0620</td>\n",
       "      <td>Lankwitz/Lichterfelde Ost</td>\n",
       "      <td>166461497</td>\n",
       "    </tr>\n",
       "    <tr>\n",
       "      <th>16</th>\n",
       "      <td>0530</td>\n",
       "      <td>Haselhorst / Siemensstadt</td>\n",
       "      <td>165332639</td>\n",
       "    </tr>\n",
       "    <tr>\n",
       "      <th>17</th>\n",
       "      <td>1250</td>\n",
       "      <td>Wittenau/Borsigwalde</td>\n",
       "      <td>164653828</td>\n",
       "    </tr>\n",
       "    <tr>\n",
       "      <th>18</th>\n",
       "      <td>1220</td>\n",
       "      <td>Tegel</td>\n",
       "      <td>162612729</td>\n",
       "    </tr>\n",
       "    <tr>\n",
       "      <th>19</th>\n",
       "      <td>0930</td>\n",
       "      <td>Treptow-Köpenick 3</td>\n",
       "      <td>160839752</td>\n",
       "    </tr>\n",
       "  </tbody>\n",
       "</table>\n",
       "</div>"
      ],
      "text/plain": [
       "   pgr_id                          pgr_name  total_anual_yield_kwa\n",
       "0    0110                           Zentrum              302985574\n",
       "1    0760         Marienfelde / Lichtenrade              279482841\n",
       "2    0510              Spandau Mitte / Nord              233246799\n",
       "3    0520            Wilhelmstadt / Staaken              226738687\n",
       "4    0810                          Neukölln              219884036\n",
       "5    0920                Treptow-Köpenick 2              217377622\n",
       "6    0630  Zehlendorf Süd/Lichterfelde West              213559386\n",
       "7    1010                           Marzahn              203553759\n",
       "8    0740                         Tempelhof              200887325\n",
       "9    0430            Charlottenburg Zentrum              193671127\n",
       "10   0450               Wilmersdorf Zentrum              192859988\n",
       "11   1040               Kaulsdorf/Mahlsdorf              190288332\n",
       "12   0640           Zehlendorf Nord/Wannsee              185739321\n",
       "13   0820                      Britz/Buckow              177790235\n",
       "14   0120                            Moabit              175618599\n",
       "15   0620         Lankwitz/Lichterfelde Ost              166461497\n",
       "16   0530         Haselhorst / Siemensstadt              165332639\n",
       "17   1250              Wittenau/Borsigwalde              164653828\n",
       "18   1220                             Tegel              162612729\n",
       "19   0930                Treptow-Köpenick 3              160839752"
      ]
     },
     "execution_count": 21,
     "metadata": {},
     "output_type": "execute_result"
    }
   ],
   "source": [
    "#subset\n",
    "solarPotential_m2 = admin_areas[[\"pgr_id\", \"pgr_name\", \"total_anual_yield_kwa\"]]\n",
    "#sort values descending\n",
    "solarPotential_m2.sort_values(by=\"total_anual_yield_kwa\", ascending=False, inplace=True)\n",
    "solarPotential_m2.reset_index(drop=True, inplace=True)\n",
    "\n",
    "solarPotential_m2.head(20)"
   ]
  },
  {
   "cell_type": "code",
   "execution_count": 22,
   "metadata": {},
   "outputs": [],
   "source": [
    "#csv\n",
    "solarPotential_m2.to_csv(\"../data/csv/solarPotential.csv\", index=False)"
   ]
  }
 ],
 "metadata": {
  "kernelspec": {
   "display_name": "base",
   "language": "python",
   "name": "python3"
  },
  "language_info": {
   "codemirror_mode": {
    "name": "ipython",
    "version": 3
   },
   "file_extension": ".py",
   "mimetype": "text/x-python",
   "name": "python",
   "nbconvert_exporter": "python",
   "pygments_lexer": "ipython3",
   "version": "3.12.4"
  }
 },
 "nbformat": 4,
 "nbformat_minor": 2
}
