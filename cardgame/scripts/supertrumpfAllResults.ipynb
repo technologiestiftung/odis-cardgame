{
 "cells": [
  {
   "cell_type": "code",
   "execution_count": 255,
   "metadata": {},
   "outputs": [],
   "source": [
    "\"\"\"\n",
    "------------------------------------------------------------------------------\n",
    "Libraries\n",
    "------------------------------------------------------------------------------\n",
    "\"\"\"\n",
    "\n",
    "import pandas as pd\n",
    "import geopandas as gpd\n",
    "\n",
    "import matplotlib.pyplot as plt"
   ]
  },
  {
   "cell_type": "code",
   "execution_count": 256,
   "metadata": {},
   "outputs": [
    {
     "data": {
      "text/plain": [
       "58"
      ]
     },
     "execution_count": 256,
     "metadata": {},
     "output_type": "execute_result"
    }
   ],
   "source": [
    "\"\"\"\n",
    "------------------------------------------------------------------------------\n",
    "import data\n",
    "------------------------------------------------------------------------------\n",
    "\"\"\"\n",
    "\n",
    "df_1 = pd.read_csv(\"../data/csv/adminAreakm2.csv\")\n",
    "\n",
    "df_1.head()\n",
    "\n",
    "len(df_1)"
   ]
  },
  {
   "cell_type": "code",
   "execution_count": 257,
   "metadata": {},
   "outputs": [
    {
     "data": {
      "text/plain": [
       "58"
      ]
     },
     "execution_count": 257,
     "metadata": {},
     "output_type": "execute_result"
    }
   ],
   "source": [
    "df_2 = pd.read_csv(\"../data/csv/airquality.csv\")\n",
    "\n",
    "df_2.head()\n",
    "\n",
    "len(df_2)"
   ]
  },
  {
   "cell_type": "code",
   "execution_count": 258,
   "metadata": {},
   "outputs": [
    {
     "data": {
      "text/plain": [
       "58"
      ]
     },
     "execution_count": 258,
     "metadata": {},
     "output_type": "execute_result"
    }
   ],
   "source": [
    "df_3 = pd.read_csv(\"../data/csv/buildingMaxAgeGroup.csv\")\n",
    "\n",
    "df_3.head()\n",
    "\n",
    "len(df_3)"
   ]
  },
  {
   "cell_type": "code",
   "execution_count": 259,
   "metadata": {},
   "outputs": [
    {
     "data": {
      "text/plain": [
       "58"
      ]
     },
     "execution_count": 259,
     "metadata": {},
     "output_type": "execute_result"
    }
   ],
   "source": [
    "df_4 = pd.read_csv(\"../data/csv/cannabisFreeArea.csv\")\n",
    "\n",
    "df_4.head()\n",
    "\n",
    "len(df_4)"
   ]
  },
  {
   "cell_type": "code",
   "execution_count": 260,
   "metadata": {},
   "outputs": [
    {
     "data": {
      "text/plain": [
       "58"
      ]
     },
     "execution_count": 260,
     "metadata": {},
     "output_type": "execute_result"
    }
   ],
   "source": [
    "df_5 = pd.read_csv(\"../data/csv/fastFoodIHK.csv\")\n",
    "\n",
    "df_5.head()\n",
    "\n",
    "len(df_5)"
   ]
  },
  {
   "cell_type": "code",
   "execution_count": 261,
   "metadata": {},
   "outputs": [
    {
     "data": {
      "text/plain": [
       "58"
      ]
     },
     "execution_count": 261,
     "metadata": {},
     "output_type": "execute_result"
    }
   ],
   "source": [
    "df_6 = pd.read_csv(\"../data/csv/femaleStreetNames.csv\")\n",
    "\n",
    "df_6.head()\n",
    "\n",
    "len(df_6)"
   ]
  },
  {
   "cell_type": "code",
   "execution_count": 262,
   "metadata": {},
   "outputs": [
    {
     "data": {
      "text/plain": [
       "58"
      ]
     },
     "execution_count": 262,
     "metadata": {},
     "output_type": "execute_result"
    }
   ],
   "source": [
    "df_7 = pd.read_csv(\"../data/csv/numberOfTrees.csv\")\n",
    "\n",
    "df_7.head()\n",
    "\n",
    "len(df_7)"
   ]
  },
  {
   "cell_type": "code",
   "execution_count": 263,
   "metadata": {},
   "outputs": [
    {
     "data": {
      "text/plain": [
       "58"
      ]
     },
     "execution_count": 263,
     "metadata": {},
     "output_type": "execute_result"
    }
   ],
   "source": [
    "df_8 = pd.read_csv(\"../data/csv/populationBerlin2024.csv\")\n",
    "\n",
    "df_8.head()\n",
    "\n",
    "len(df_8)"
   ]
  },
  {
   "cell_type": "code",
   "execution_count": 264,
   "metadata": {},
   "outputs": [
    {
     "data": {
      "text/plain": [
       "58"
      ]
     },
     "execution_count": 264,
     "metadata": {},
     "output_type": "execute_result"
    }
   ],
   "source": [
    "df_9 = pd.read_csv(\"../data/csv/responseTimeEMS.csv\")\n",
    "\n",
    "df_9.head()\n",
    "\n",
    "len(df_9)"
   ]
  },
  {
   "cell_type": "code",
   "execution_count": 265,
   "metadata": {},
   "outputs": [
    {
     "data": {
      "text/plain": [
       "58"
      ]
     },
     "execution_count": 265,
     "metadata": {},
     "output_type": "execute_result"
    }
   ],
   "source": [
    "df_10 = pd.read_csv(\"../data/csv/solarPotential.csv\")\n",
    "\n",
    "df_10.head()\n",
    "\n",
    "len(df_10)"
   ]
  },
  {
   "cell_type": "code",
   "execution_count": 266,
   "metadata": {},
   "outputs": [
    {
     "data": {
      "text/html": [
       "<div>\n",
       "<style scoped>\n",
       "    .dataframe tbody tr th:only-of-type {\n",
       "        vertical-align: middle;\n",
       "    }\n",
       "\n",
       "    .dataframe tbody tr th {\n",
       "        vertical-align: top;\n",
       "    }\n",
       "\n",
       "    .dataframe thead th {\n",
       "        text-align: right;\n",
       "    }\n",
       "</style>\n",
       "<table border=\"1\" class=\"dataframe\">\n",
       "  <thead>\n",
       "    <tr style=\"text-align: right;\">\n",
       "      <th></th>\n",
       "      <th>pgr_id</th>\n",
       "      <th>pgr_name</th>\n",
       "      <th>area_km2</th>\n",
       "      <th>mean_no2</th>\n",
       "      <th>mean_pm25</th>\n",
       "      <th>max_ageGroup</th>\n",
       "      <th>totalBuildings</th>\n",
       "      <th>max_ageGroupPercent</th>\n",
       "      <th>cannabisFreeArea_m2</th>\n",
       "      <th>cannabisFreeArea_perc</th>\n",
       "      <th>...</th>\n",
       "      <th>unique_m_streets</th>\n",
       "      <th>unique_streets_count</th>\n",
       "      <th>fStreets_percent</th>\n",
       "      <th>treeCount</th>\n",
       "      <th>population</th>\n",
       "      <th>response_time_ems_critical_mean</th>\n",
       "      <th>response_time_ems_critical_std</th>\n",
       "      <th>response_time_fire_time_to_first_pump_mean</th>\n",
       "      <th>response_time_fire_time_to_first_pump_std</th>\n",
       "      <th>total_anual_yield_kwa</th>\n",
       "    </tr>\n",
       "  </thead>\n",
       "  <tbody>\n",
       "    <tr>\n",
       "      <th>0</th>\n",
       "      <td>110</td>\n",
       "      <td>Zentrum</td>\n",
       "      <td>15.84</td>\n",
       "      <td>18.56</td>\n",
       "      <td>11.13</td>\n",
       "      <td>('x_bis_1900', 1391)</td>\n",
       "      <td>4225</td>\n",
       "      <td>32.9</td>\n",
       "      <td>6299810</td>\n",
       "      <td>39.8</td>\n",
       "      <td>...</td>\n",
       "      <td>166</td>\n",
       "      <td>215</td>\n",
       "      <td>22.8</td>\n",
       "      <td>30137</td>\n",
       "      <td>124331</td>\n",
       "      <td>9.565000</td>\n",
       "      <td>3.223750</td>\n",
       "      <td>9.673125</td>\n",
       "      <td>1.981875</td>\n",
       "      <td>302985574</td>\n",
       "    </tr>\n",
       "    <tr>\n",
       "      <th>1</th>\n",
       "      <td>120</td>\n",
       "      <td>Moabit</td>\n",
       "      <td>8.22</td>\n",
       "      <td>18.63</td>\n",
       "      <td>11.02</td>\n",
       "      <td>('x_bis_1900', 885)</td>\n",
       "      <td>2920</td>\n",
       "      <td>30.3</td>\n",
       "      <td>4037117</td>\n",
       "      <td>49.1</td>\n",
       "      <td>...</td>\n",
       "      <td>63</td>\n",
       "      <td>85</td>\n",
       "      <td>25.9</td>\n",
       "      <td>10307</td>\n",
       "      <td>89877</td>\n",
       "      <td>9.706154</td>\n",
       "      <td>3.130769</td>\n",
       "      <td>9.370000</td>\n",
       "      <td>2.480000</td>\n",
       "      <td>175618599</td>\n",
       "    </tr>\n",
       "    <tr>\n",
       "      <th>2</th>\n",
       "      <td>130</td>\n",
       "      <td>Gesundbrunnen</td>\n",
       "      <td>5.68</td>\n",
       "      <td>16.96</td>\n",
       "      <td>11.36</td>\n",
       "      <td>('x_bis_1900', 441)</td>\n",
       "      <td>2587</td>\n",
       "      <td>17.0</td>\n",
       "      <td>4251517</td>\n",
       "      <td>74.8</td>\n",
       "      <td>...</td>\n",
       "      <td>36</td>\n",
       "      <td>38</td>\n",
       "      <td>5.3</td>\n",
       "      <td>8459</td>\n",
       "      <td>78592</td>\n",
       "      <td>10.094286</td>\n",
       "      <td>3.271429</td>\n",
       "      <td>9.698571</td>\n",
       "      <td>2.581429</td>\n",
       "      <td>100969489</td>\n",
       "    </tr>\n",
       "    <tr>\n",
       "      <th>3</th>\n",
       "      <td>140</td>\n",
       "      <td>Wedding</td>\n",
       "      <td>9.63</td>\n",
       "      <td>16.68</td>\n",
       "      <td>10.99</td>\n",
       "      <td>('x1901_1910', 835)</td>\n",
       "      <td>3873</td>\n",
       "      <td>21.6</td>\n",
       "      <td>4960491</td>\n",
       "      <td>51.5</td>\n",
       "      <td>...</td>\n",
       "      <td>39</td>\n",
       "      <td>40</td>\n",
       "      <td>2.5</td>\n",
       "      <td>14180</td>\n",
       "      <td>102856</td>\n",
       "      <td>9.651538</td>\n",
       "      <td>3.403077</td>\n",
       "      <td>9.246154</td>\n",
       "      <td>2.373077</td>\n",
       "      <td>136258419</td>\n",
       "    </tr>\n",
       "    <tr>\n",
       "      <th>4</th>\n",
       "      <td>210</td>\n",
       "      <td>Kreuzberg Nord</td>\n",
       "      <td>2.94</td>\n",
       "      <td>17.69</td>\n",
       "      <td>11.37</td>\n",
       "      <td>('x1971_1980', 219)</td>\n",
       "      <td>1039</td>\n",
       "      <td>21.1</td>\n",
       "      <td>2258290</td>\n",
       "      <td>76.8</td>\n",
       "      <td>...</td>\n",
       "      <td>36</td>\n",
       "      <td>41</td>\n",
       "      <td>12.2</td>\n",
       "      <td>5863</td>\n",
       "      <td>41369</td>\n",
       "      <td>9.321667</td>\n",
       "      <td>3.090000</td>\n",
       "      <td>9.045000</td>\n",
       "      <td>2.540000</td>\n",
       "      <td>56590113</td>\n",
       "    </tr>\n",
       "  </tbody>\n",
       "</table>\n",
       "<p>5 rows × 22 columns</p>\n",
       "</div>"
      ],
      "text/plain": [
       "   pgr_id        pgr_name  area_km2  mean_no2  mean_pm25  \\\n",
       "0     110         Zentrum     15.84     18.56      11.13   \n",
       "1     120          Moabit      8.22     18.63      11.02   \n",
       "2     130   Gesundbrunnen      5.68     16.96      11.36   \n",
       "3     140         Wedding      9.63     16.68      10.99   \n",
       "4     210  Kreuzberg Nord      2.94     17.69      11.37   \n",
       "\n",
       "           max_ageGroup  totalBuildings  max_ageGroupPercent  \\\n",
       "0  ('x_bis_1900', 1391)            4225                 32.9   \n",
       "1   ('x_bis_1900', 885)            2920                 30.3   \n",
       "2   ('x_bis_1900', 441)            2587                 17.0   \n",
       "3   ('x1901_1910', 835)            3873                 21.6   \n",
       "4   ('x1971_1980', 219)            1039                 21.1   \n",
       "\n",
       "   cannabisFreeArea_m2  cannabisFreeArea_perc  ...  unique_m_streets  \\\n",
       "0              6299810                   39.8  ...               166   \n",
       "1              4037117                   49.1  ...                63   \n",
       "2              4251517                   74.8  ...                36   \n",
       "3              4960491                   51.5  ...                39   \n",
       "4              2258290                   76.8  ...                36   \n",
       "\n",
       "   unique_streets_count  fStreets_percent  treeCount  population  \\\n",
       "0                   215              22.8      30137      124331   \n",
       "1                    85              25.9      10307       89877   \n",
       "2                    38               5.3       8459       78592   \n",
       "3                    40               2.5      14180      102856   \n",
       "4                    41              12.2       5863       41369   \n",
       "\n",
       "   response_time_ems_critical_mean  response_time_ems_critical_std  \\\n",
       "0                         9.565000                        3.223750   \n",
       "1                         9.706154                        3.130769   \n",
       "2                        10.094286                        3.271429   \n",
       "3                         9.651538                        3.403077   \n",
       "4                         9.321667                        3.090000   \n",
       "\n",
       "   response_time_fire_time_to_first_pump_mean  \\\n",
       "0                                    9.673125   \n",
       "1                                    9.370000   \n",
       "2                                    9.698571   \n",
       "3                                    9.246154   \n",
       "4                                    9.045000   \n",
       "\n",
       "   response_time_fire_time_to_first_pump_std  total_anual_yield_kwa  \n",
       "0                                   1.981875              302985574  \n",
       "1                                   2.480000              175618599  \n",
       "2                                   2.581429              100969489  \n",
       "3                                   2.373077              136258419  \n",
       "4                                   2.540000               56590113  \n",
       "\n",
       "[5 rows x 22 columns]"
      ]
     },
     "execution_count": 266,
     "metadata": {},
     "output_type": "execute_result"
    }
   ],
   "source": [
    "\"\"\"\n",
    "------------------------------------------------------------------------------\n",
    "Merge\n",
    "------------------------------------------------------------------------------\n",
    "\"\"\"\n",
    "\n",
    "dfs = [df_1, df_2, df_3, df_4, df_5, df_6, df_7, df_8, df_9, df_10]\n",
    "\n",
    "merged_df = dfs[0] \n",
    "#merge loop\n",
    "for df in dfs[1:]:\n",
    "    merged_df = pd.merge(merged_df, df, on=[\"pgr_id\", \"pgr_name\"], how=\"outer\")\n",
    "\n",
    "merged_df.head()\n"
   ]
  },
  {
   "cell_type": "code",
   "execution_count": 267,
   "metadata": {},
   "outputs": [],
   "source": [
    "#csv\n",
    "merged_df.to_csv(\"../data/csv/supertrumpf.csv\", index=False)"
   ]
  }
 ],
 "metadata": {
  "kernelspec": {
   "display_name": "base",
   "language": "python",
   "name": "python3"
  },
  "language_info": {
   "codemirror_mode": {
    "name": "ipython",
    "version": 3
   },
   "file_extension": ".py",
   "mimetype": "text/x-python",
   "name": "python",
   "nbconvert_exporter": "python",
   "pygments_lexer": "ipython3",
   "version": "3.12.4"
  }
 },
 "nbformat": 4,
 "nbformat_minor": 2
}
