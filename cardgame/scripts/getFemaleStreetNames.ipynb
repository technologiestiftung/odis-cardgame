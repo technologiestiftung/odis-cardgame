{
 "cells": [
  {
   "cell_type": "code",
   "execution_count": 1,
   "metadata": {},
   "outputs": [
    {
     "data": {
      "text/plain": [
       "'\\n------------------------------------------------------------------------------\\nAbout\\nIn this data analysis, the number and proportion of female and male street names\\nis calculated for each admin area.\\n\\nThe percentage of female street names represents the proportion of female street \\nnames compared to the total number of both female and male street names.\\n------------------------------------------------------------------------------\\n'"
      ]
     },
     "execution_count": 1,
     "metadata": {},
     "output_type": "execute_result"
    }
   ],
   "source": [
    "\"\"\"\n",
    "------------------------------------------------------------------------------\n",
    "About\n",
    "In this data analysis, the number and proportion of female and male street names\n",
    "is calculated for each admin area.\n",
    "\n",
    "The percentage of female street names represents the proportion of female street \n",
    "names compared to the total number of both female and male street names.\n",
    "------------------------------------------------------------------------------\n",
    "\"\"\""
   ]
  },
  {
   "cell_type": "code",
   "execution_count": 2,
   "metadata": {},
   "outputs": [
    {
     "name": "stdout",
     "output_type": "stream",
     "text": [
      "/opt/anaconda3/bin/python\n",
      "3.12.7 | packaged by Anaconda, Inc. | (main, Oct  4 2024, 08:22:19) [Clang 14.0.6 ]\n"
     ]
    }
   ],
   "source": [
    "import sys\n",
    "print(sys.executable)\n",
    "print(sys.version)"
   ]
  },
  {
   "cell_type": "code",
   "execution_count": 3,
   "metadata": {},
   "outputs": [
    {
     "ename": "",
     "evalue": "",
     "output_type": "error",
     "traceback": [
      "\u001b[1;31mThe Kernel crashed while executing code in the current cell or a previous cell. \n",
      "\u001b[1;31mPlease review the code in the cell(s) to identify a possible cause of the failure. \n",
      "\u001b[1;31mClick <a href='https://aka.ms/vscodeJupyterKernelCrash'>here</a> for more info. \n",
      "\u001b[1;31mView Jupyter <a href='command:jupyter.viewOutput'>log</a> for further details."
     ]
    }
   ],
   "source": [
    "\"\"\"\n",
    "------------------------------------------------------------------------------\n",
    "Libraries\n",
    "------------------------------------------------------------------------------\n",
    "\"\"\"\n",
    "\n",
    "import pandas as pd\n",
    "import geopandas as gpd\n",
    "\n",
    "import matplotlib.pyplot as plt"
   ]
  },
  {
   "cell_type": "code",
   "execution_count": 88,
   "metadata": {},
   "outputs": [],
   "source": [
    "\"\"\"\n",
    "------------------------------------------------------------------------------\n",
    "Load GeoJson files\n",
    "------------------------------------------------------------------------------\n",
    "\"\"\"\n",
    "\n",
    "admin_areas = gpd.read_file(\"../data/raw/Prognoseräume.json\")\n",
    "\n",
    "gdf_streetNames = gpd.read_file(\"../data/raw/ways.geojson\")"
   ]
  },
  {
   "cell_type": "code",
   "execution_count": null,
   "metadata": {},
   "outputs": [],
   "source": [
    "\"\"\"\n",
    "------------------------------------------------------------------------------\n",
    "Data exploration\n",
    "------------------------------------------------------------------------------\n",
    "\"\"\"\n",
    "\n",
    "gdf_streetNames.shape"
   ]
  },
  {
   "cell_type": "code",
   "execution_count": null,
   "metadata": {},
   "outputs": [],
   "source": [
    "gdf_streetNames.isna().sum()"
   ]
  },
  {
   "cell_type": "code",
   "execution_count": null,
   "metadata": {},
   "outputs": [],
   "source": [
    "gdf_streetNames.iloc[0]"
   ]
  },
  {
   "cell_type": "code",
   "execution_count": null,
   "metadata": {},
   "outputs": [],
   "source": [
    "gdf_streetNames[gdf_streetNames[\"name\"]== \"Rose-Scheuer-Karpin-Straße\"]"
   ]
  },
  {
   "cell_type": "code",
   "execution_count": null,
   "metadata": {},
   "outputs": [],
   "source": [
    "gdf_streetNames[\"gender\"].value_counts()"
   ]
  },
  {
   "cell_type": "code",
   "execution_count": null,
   "metadata": {},
   "outputs": [],
   "source": [
    "#subset female/male\n",
    "\n",
    "fm = [\"F\", \"M\"]\n",
    "\n",
    "gdf_streetNames_fm = gdf_streetNames[gdf_streetNames[\"gender\"].isin(fm)]\n",
    "\n",
    "gdf_streetNames_fm.head()"
   ]
  },
  {
   "cell_type": "code",
   "execution_count": null,
   "metadata": {},
   "outputs": [],
   "source": [
    "gdf_streetNames_fm.shape"
   ]
  },
  {
   "cell_type": "code",
   "execution_count": null,
   "metadata": {},
   "outputs": [],
   "source": [
    "len(gdf_streetNames_fm[\"name\"].unique())"
   ]
  },
  {
   "cell_type": "code",
   "execution_count": null,
   "metadata": {},
   "outputs": [],
   "source": [
    "gdf_streetNames_fm.dtypes"
   ]
  },
  {
   "cell_type": "code",
   "execution_count": null,
   "metadata": {},
   "outputs": [],
   "source": [
    "gdf_streetNames_fm.isna().sum()"
   ]
  },
  {
   "cell_type": "code",
   "execution_count": null,
   "metadata": {},
   "outputs": [],
   "source": [
    "admin_areas.head()"
   ]
  },
  {
   "cell_type": "code",
   "execution_count": null,
   "metadata": {},
   "outputs": [],
   "source": [
    "#Check for empty or invalid geometries\n",
    "print(f\"Empty geometry in gdf_streetNames_fm: {len(gdf_streetNames_fm[gdf_streetNames_fm.is_empty])}\")\n",
    "print(f\"Invalid geometry in gdf_streets_fm: {len(gdf_streetNames_fm[~gdf_streetNames_fm.is_valid])}\")"
   ]
  },
  {
   "cell_type": "code",
   "execution_count": null,
   "metadata": {},
   "outputs": [],
   "source": [
    "\"\"\"\n",
    "------------------------------------------------------------------------------\n",
    "CRS\n",
    "------------------------------------------------------------------------------\n",
    "\"\"\"\n",
    "\n",
    "gdf_streetNames_fm.crs"
   ]
  },
  {
   "cell_type": "code",
   "execution_count": 102,
   "metadata": {},
   "outputs": [],
   "source": [
    "#ensure both GeoDataFrames have the same CRS \n",
    "if admin_areas.crs != gdf_streetNames_fm.crs:\n",
    "    gdf_streetNames_fm = gdf_streetNames_fm.to_crs(admin_areas.crs)"
   ]
  },
  {
   "cell_type": "code",
   "execution_count": null,
   "metadata": {},
   "outputs": [],
   "source": [
    "#plot female and male street names\n",
    "fig, ax = plt.subplots(figsize=(10, 10))\n",
    "\n",
    "gdf_streetNames_fm[gdf_streetNames_fm[\"gender\"] == \"F\"].plot(ax=ax, color=\"red\", label=\"Female\") \n",
    "gdf_streetNames_fm[gdf_streetNames_fm[\"gender\"] == \"M\"].plot(ax=ax, color=\"blue\", label=\"Male\")\n",
    "\n",
    "plt.legend()\n",
    "plt.show()"
   ]
  },
  {
   "cell_type": "code",
   "execution_count": null,
   "metadata": {},
   "outputs": [],
   "source": [
    "gdf_streetNames_fm[\"gender\"].value_counts()"
   ]
  },
  {
   "cell_type": "code",
   "execution_count": 105,
   "metadata": {},
   "outputs": [],
   "source": [
    "\"\"\"\n",
    "------------------------------------------------------------------------------\n",
    "Functions: \n",
    "female street names\n",
    "male street names\n",
    "------------------------------------------------------------------------------\n",
    "\"\"\"\n",
    "\n",
    "def calculate_f_streets(admin_area, gdf_streetNames_fm):\n",
    "    #find intersections between the street dataframe and admin areas\n",
    "    intersections = gdf_streetNames_fm[gdf_streetNames_fm.intersects(admin_area.geometry)]\n",
    "    \n",
    "    #Count the unique female street names in the intersections\n",
    "    unique_f_streets = intersections[intersections[\"gender\"] == \"F\"][\"name\"].nunique()\n",
    "    \n",
    "    print(f\"Admin Area: {admin_area['pgr_name']}, Unique_f_streets: {unique_f_streets}\")\n",
    "    \n",
    "    return unique_f_streets\n",
    "\n",
    "\n",
    "def calculate_m_streets(admin_area, gdf_streetNames_fm):\n",
    "    #find intersections between the street dataframe and admin areas\n",
    "    intersections = gdf_streetNames_fm[gdf_streetNames_fm.intersects(admin_area.geometry)]\n",
    "    \n",
    "    #Count the unique female street names in the intersections\n",
    "    unique_m_streets = intersections[intersections[\"gender\"] == \"M\"][\"name\"].nunique()\n",
    "    \n",
    "    print(f\"Admin Area: {admin_area['pgr_name']}, Unique_m_streets: {unique_m_streets}\")\n",
    "    \n",
    "    return unique_m_streets\n"
   ]
  },
  {
   "cell_type": "code",
   "execution_count": null,
   "metadata": {},
   "outputs": [],
   "source": [
    "#test one admin area\n",
    "intersections = gdf_streetNames_fm[gdf_streetNames_fm.intersects(admin_areas.iloc[0].geometry)]\n",
    "intersections[intersections[\"gender\"] == \"F\"][\"name\"].nunique()"
   ]
  },
  {
   "cell_type": "code",
   "execution_count": null,
   "metadata": {},
   "outputs": [],
   "source": [
    "intersections[intersections[\"gender\"] == \"M\"][\"name\"].nunique()"
   ]
  },
  {
   "cell_type": "code",
   "execution_count": null,
   "metadata": {},
   "outputs": [],
   "source": [
    "gdf_streetNames_fm.geometry.head()"
   ]
  },
  {
   "cell_type": "code",
   "execution_count": null,
   "metadata": {},
   "outputs": [],
   "source": [
    "#calculation of unique_f_streets and unique_m_streets for each administrative area\n",
    "admin_areas[\"unique_f_streets\"] = admin_areas.apply(\n",
    "    lambda row: calculate_f_streets(row, gdf_streetNames_fm), axis=1\n",
    ")\n",
    "\n",
    "admin_areas[\"unique_m_streets\"] = admin_areas.apply(\n",
    "    lambda row: calculate_m_streets(row, gdf_streetNames_fm), axis=1\n",
    ")\n",
    "\n",
    "#subset\n",
    "streetNames = admin_areas[[\"pgr_id\", \"pgr_name\", \"unique_f_streets\", \"unique_m_streets\"]]\n",
    "streetNames.head()"
   ]
  },
  {
   "cell_type": "code",
   "execution_count": null,
   "metadata": {},
   "outputs": [],
   "source": [
    "#add total street count and female streets in percent\n",
    "streetNames[\"unique_streets_count\"] = streetNames[\"unique_f_streets\"] + streetNames[\"unique_m_streets\"]\n",
    "streetNames[\"fStreets_percent\"] = (streetNames[\"unique_f_streets\"] / streetNames[\"unique_streets_count\"]).round(3) *100"
   ]
  },
  {
   "cell_type": "code",
   "execution_count": null,
   "metadata": {},
   "outputs": [],
   "source": [
    "#sort descending\n",
    "streetNames.sort_values(by=\"unique_f_streets\", ascending=False, inplace =True)\n",
    "streetNames"
   ]
  },
  {
   "cell_type": "code",
   "execution_count": null,
   "metadata": {},
   "outputs": [],
   "source": [
    "#min max\n",
    "streetNames[\"fStreets_percent\"].min()"
   ]
  },
  {
   "cell_type": "code",
   "execution_count": null,
   "metadata": {},
   "outputs": [],
   "source": [
    "streetNames[\"fStreets_percent\"].max()"
   ]
  },
  {
   "cell_type": "code",
   "execution_count": 114,
   "metadata": {},
   "outputs": [],
   "source": [
    "#csv\n",
    "streetNames.to_csv(\"../data/csv/femaleStreetNames.csv\", index = False)"
   ]
  }
 ],
 "metadata": {
  "kernelspec": {
   "display_name": "base",
   "language": "python",
   "name": "python3"
  },
  "language_info": {
   "codemirror_mode": {
    "name": "ipython",
    "version": 3
   },
   "file_extension": ".py",
   "mimetype": "text/x-python",
   "name": "python",
   "nbconvert_exporter": "python",
   "pygments_lexer": "ipython3",
   "version": "3.12.7"
  }
 },
 "nbformat": 4,
 "nbformat_minor": 2
}
