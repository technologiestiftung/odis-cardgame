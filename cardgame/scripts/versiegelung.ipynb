{
 "cells": [
  {
   "cell_type": "code",
   "execution_count": null,
   "id": "d28976ad-d122-43e0-8f58-74227d7515bf",
   "metadata": {},
   "outputs": [],
   "source": [
    "# Import necessary libraries\n",
    "import geopandas as gpd\n",
    "import pandas as pd\n"
   ]
  },
  {
   "cell_type": "code",
   "execution_count": null,
   "id": "d807b797-f2d1-4a18-b1c6-328d2f21fd6b",
   "metadata": {
    "scrolled": true
   },
   "outputs": [],
   "source": [
    "# Load the GeoJSON with administrative areas\n",
    "admin_areas = gpd.read_file('../data/raw/Prognoseräume.json')\n",
    "\n",
    "# Load the GeoJSON with soil sealing data (vg_2021 attribute)\n",
    "sealing_blocks = gpd.read_file('../data/raw/Versiegelung_2021_-_Block-_und_Blockteilflächen_(Umweltatlas).json')\n",
    "\n",
    "# Load the second GeoJSON with additional soil sealing data (vg_0 attribute)\n",
    "sealing_streets = gpd.read_file('../data/raw/Versiegelung_2021_-_Straßenflächen_(Umweltatlas).json')\n"
   ]
  },
  {
   "cell_type": "code",
   "execution_count": null,
   "id": "88f48245-8238-4bf5-865d-be4aacb6d717",
   "metadata": {},
   "outputs": [],
   "source": [
    "# Ensure both GeoDataFrames have the same CRS (coordinate reference system)\n",
    "if admin_areas.crs != sealing_blocks.crs:\n",
    "    sealing_blocks = sealing_blocks.to_crs(admin_areas.crs)\n",
    "\n",
    "if admin_areas.crs != sealing_streets.crs:\n",
    "    sealing_streets = sealing_streets.to_crs(admin_areas.crs)\n"
   ]
  },
  {
   "cell_type": "code",
   "execution_count": null,
   "id": "761ea412-91c5-4265-9b34-14ca2156debf",
   "metadata": {},
   "outputs": [],
   "source": [
    "# Re-project to a projected CRS, e.g., UTM zone 33N (EPSG:32633)\n",
    "projected_crs = 'EPSG:32633'  # Choose a suitable CRS for your region\n",
    "\n",
    "# Re-project both datasets to a projected CRS\n",
    "admin_areas = admin_areas.to_crs(projected_crs)\n",
    "sealing_blocks = sealing_blocks.to_crs(projected_crs)\n",
    "sealing_streets = sealing_streets.to_crs(projected_crs)"
   ]
  },
  {
   "cell_type": "code",
   "execution_count": null,
   "id": "20895dac-68ba-4ce3-ad9b-f54bf3fd593f",
   "metadata": {},
   "outputs": [],
   "source": [
    "# Check for invalid geometries in the administrative areas\n",
    "print(\"Checking for invalid geometries in admin areas...\")\n",
    "invalid_admin_areas = admin_areas[~admin_areas.is_valid]\n",
    "print(f\"Number of invalid admin areas: {len(invalid_admin_areas)}\")\n",
    "\n",
    "# Fix invalid geometries in the admin areas by applying a zero-width buffer\n",
    "admin_areas['geometry'] = admin_areas['geometry'].buffer(0)\n",
    "\n",
    "# Check for invalid geometries in the soil sealing dataset (vg_2021)\n",
    "print(\"Checking for invalid geometries in soil sealing (vg_2021)...\")\n",
    "invalid_sealing_blocks = sealing_blocks[~sealing_blocks.is_valid]\n",
    "print(f\"Number of invalid geometries in sealing_blocks: {len(invalid_sealing_blocks)}\")\n",
    "\n",
    "# Fix invalid geometries in the soil sealing dataset (vg_2021)\n",
    "sealing_blocks['geometry'] = sealing_blocks['geometry'].buffer(0)\n",
    "\n",
    "# Check for invalid geometries in the second soil sealing dataset (vg_0)\n",
    "print(\"Checking for invalid geometries in soil sealing (vg_0)...\")\n",
    "invalid_sealing_streets = sealing_streets[~sealing_streets.is_valid]\n",
    "print(f\"Number of invalid geometries in sealing_streets: {len(invalid_sealing_streets)}\")\n",
    "\n",
    "# Fix invalid geometries in the soil sealing dataset (vg_0)\n",
    "sealing_streets['geometry'] = sealing_streets['geometry'].buffer(0)"
   ]
  },
  {
   "cell_type": "code",
   "execution_count": null,
   "id": "df258011-7d2a-4434-a815-9377f5e27ff3",
   "metadata": {},
   "outputs": [],
   "source": [
    "# Safe conversion to float with error handling for empty strings\n",
    "def safe_float(value):\n",
    "    try:\n",
    "        # Strip any potential surrounding whitespace before conversion\n",
    "        value = value.strip()\n",
    "        if value == '':\n",
    "            return 0.0  # Return 0.0 if the string is empty\n",
    "        return float(value)\n",
    "    except (ValueError, TypeError):\n",
    "        return 0.0  # Return 0.0 if conversion fails\n"
   ]
  },
  {
   "cell_type": "code",
   "execution_count": null,
   "id": "c65e0ed3-ce19-4c5e-b91b-18373d7d455c",
   "metadata": {},
   "outputs": [],
   "source": [
    "# Updated function to calculate the intersection area and multiply it by the sealing factor for each dataset\n",
    "def calculate_sealing(admin_area, sealing_blocks, sealing_streets):\n",
    "    # Find intersections for the first dataset (vg_2021)\n",
    "    intersections_blocks = sealing_blocks[sealing_blocks.intersects(admin_area.geometry)]\n",
    "    # Find intersections for the second dataset (vg_0)\n",
    "    intersections_streets = sealing_streets[sealing_streets.intersects(admin_area.geometry)]\n",
    "    \n",
    "    # Get the area of the admin_area\n",
    "    admin_area_size = admin_area.geometry.area\n",
    "    \n",
    "    # Calculate the total sealing area for blocks\n",
    "    sealing_area_blocks = 0\n",
    "    for _, row in intersections_blocks.iterrows():\n",
    "        intersection = admin_area.geometry.intersection(row.geometry)\n",
    "        if not intersection.is_empty:\n",
    "            # Calculate the proportion of the intersection area relative to the admin area\n",
    "            sealing_area_blocks += ((intersection.area / admin_area_size) * 100) * (safe_float(row['vg_2021'])/100)  # Safe float conversion\n",
    "    \n",
    "    # Calculate the total sealing area for streets\n",
    "    sealing_area_streets = 0\n",
    "    for _, row in intersections_streets.iterrows():\n",
    "        intersection = admin_area.geometry.intersection(row.geometry)\n",
    "        if not intersection.is_empty:\n",
    "            # Calculate the proportion of the intersection area relative to the admin area\n",
    "            sealing_area_streets += ((intersection.area / admin_area_size) * 100) * (safe_float(row['vg_0'])/100)  # Safe float conversion\n",
    "\n",
    "    # Return the combined sealing area from both datasets\n",
    "    return sealing_area_blocks + sealing_area_streets\n"
   ]
  },
  {
   "cell_type": "code",
   "execution_count": null,
   "id": "63ad6fa7-1bd5-431d-804d-3ecab0171d7e",
   "metadata": {},
   "outputs": [],
   "source": [
    "# Calculate soil sealing for each administrative area considering both datasets\n",
    "admin_areas['total_sealing_area'] = admin_areas.apply(\n",
    "    lambda row: calculate_sealing(row, sealing_blocks, sealing_streets), axis=1\n",
    ")\n"
   ]
  },
  {
   "cell_type": "code",
   "execution_count": null,
   "id": "510d950d-4788-445a-bde9-1267f1f7b606",
   "metadata": {},
   "outputs": [],
   "source": [
    "# Display the results as a DataFrame\n",
    "admin_areas[['pgr_name', 'total_sealing_area']].head()  # Replace with actual admin area name column"
   ]
  },
  {
   "cell_type": "code",
   "execution_count": null,
   "id": "7698a8e4-f752-4e9f-8f21-8f8481bca538",
   "metadata": {},
   "outputs": [],
   "source": [
    "# Save the DataFrame (without geometry) as CSV\n",
    "admin_areas[['pgr_name', 'total_sealing_area']].to_csv('../data/out/admin_areas_sealing.csv', index=False)\n"
   ]
  },
  {
   "cell_type": "code",
   "execution_count": null,
   "id": "b706d640-ad84-42c0-8811-8b10312195e2",
   "metadata": {},
   "outputs": [],
   "source": [
    "# Save the result to a new GeoJSON file if needed\n",
    "# admin_areas.to_file('admin_areas_with_sealing_combined.geojson', driver='GeoJSON')\n"
   ]
  },
  {
   "cell_type": "code",
   "execution_count": null,
   "id": "43ca150f-aa72-46d8-9dd8-59bbb4e48c26",
   "metadata": {},
   "outputs": [],
   "source": [
    "# Optionally, display a summary table of administrative areas and their sealing areas\n",
    "# admin_areas[['admin_area_name_column', 'total_sealing_area']].head()  # Replace with actual admin area name column"
   ]
  }
 ],
 "metadata": {
  "kernelspec": {
   "display_name": "Python 3 (ipykernel)",
   "language": "python",
   "name": "python3"
  },
  "language_info": {
   "codemirror_mode": {
    "name": "ipython",
    "version": 3
   },
   "file_extension": ".py",
   "mimetype": "text/x-python",
   "name": "python",
   "nbconvert_exporter": "python",
   "pygments_lexer": "ipython3",
   "version": "3.9.6"
  }
 },
 "nbformat": 4,
 "nbformat_minor": 5
}
