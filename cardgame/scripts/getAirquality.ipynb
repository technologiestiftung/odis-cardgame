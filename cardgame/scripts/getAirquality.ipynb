{
 "cells": [
  {
   "cell_type": "code",
   "execution_count": 22,
   "metadata": {},
   "outputs": [
    {
     "data": {
      "text/plain": [
       "'\\n------------------------------------------------------------------------------\\nAbout\\nIn this data analysis, the mean of NO2 is calculated for each\\nadmin area. \\n------------------------------------------------------------------------------\\n'"
      ]
     },
     "execution_count": 22,
     "metadata": {},
     "output_type": "execute_result"
    }
   ],
   "source": [
    "\"\"\"\n",
    "------------------------------------------------------------------------------\n",
    "About\n",
    "In this data analysis, the mean of NO2 and PM2.5 (µg/m³) is calculated for \n",
    "each admin area. \n",
    "------------------------------------------------------------------------------\n",
    "\"\"\""
   ]
  },
  {
   "cell_type": "code",
   "execution_count": 23,
   "metadata": {},
   "outputs": [],
   "source": [
    "\"\"\"\n",
    "------------------------------------------------------------------------------\n",
    "Libraries\n",
    "------------------------------------------------------------------------------\n",
    "\"\"\"\n",
    "\n",
    "import pandas as pd\n",
    "import geopandas as gpd\n",
    "import matplotlib.pyplot as plt\n",
    "\n",
    "from shapely.geometry import Point\n"
   ]
  },
  {
   "cell_type": "code",
   "execution_count": 24,
   "metadata": {},
   "outputs": [],
   "source": [
    "\"\"\"\n",
    "------------------------------------------------------------------------------\n",
    "Load GeoJson files\n",
    "------------------------------------------------------------------------------\n",
    "\"\"\"\n",
    "\n",
    "admin_areas = gpd.read_file(\"../data/raw/Prognoseräume.json\")\n",
    "\n",
    "airquality = pd.read_csv(\"../data/raw/2023_pollutant_grid_avg.csv\")"
   ]
  },
  {
   "cell_type": "code",
   "execution_count": 25,
   "metadata": {},
   "outputs": [
    {
     "data": {
      "text/html": [
       "<div>\n",
       "<style scoped>\n",
       "    .dataframe tbody tr th:only-of-type {\n",
       "        vertical-align: middle;\n",
       "    }\n",
       "\n",
       "    .dataframe tbody tr th {\n",
       "        vertical-align: top;\n",
       "    }\n",
       "\n",
       "    .dataframe thead th {\n",
       "        text-align: right;\n",
       "    }\n",
       "</style>\n",
       "<table border=\"1\" class=\"dataframe\">\n",
       "  <thead>\n",
       "    <tr style=\"text-align: right;\">\n",
       "      <th></th>\n",
       "      <th>x</th>\n",
       "      <th>y</th>\n",
       "      <th>no2</th>\n",
       "      <th>pm10</th>\n",
       "      <th>pm2.5</th>\n",
       "    </tr>\n",
       "  </thead>\n",
       "  <tbody>\n",
       "    <tr>\n",
       "      <th>0</th>\n",
       "      <td>410975</td>\n",
       "      <td>5807975</td>\n",
       "      <td>10</td>\n",
       "      <td>14</td>\n",
       "      <td>10</td>\n",
       "    </tr>\n",
       "    <tr>\n",
       "      <th>1</th>\n",
       "      <td>396325</td>\n",
       "      <td>5826225</td>\n",
       "      <td>10</td>\n",
       "      <td>15</td>\n",
       "      <td>10</td>\n",
       "    </tr>\n",
       "    <tr>\n",
       "      <th>2</th>\n",
       "      <td>410275</td>\n",
       "      <td>5809375</td>\n",
       "      <td>8</td>\n",
       "      <td>13</td>\n",
       "      <td>9</td>\n",
       "    </tr>\n",
       "    <tr>\n",
       "      <th>3</th>\n",
       "      <td>380625</td>\n",
       "      <td>5829025</td>\n",
       "      <td>11</td>\n",
       "      <td>14</td>\n",
       "      <td>10</td>\n",
       "    </tr>\n",
       "    <tr>\n",
       "      <th>4</th>\n",
       "      <td>396575</td>\n",
       "      <td>5823325</td>\n",
       "      <td>17</td>\n",
       "      <td>17</td>\n",
       "      <td>12</td>\n",
       "    </tr>\n",
       "    <tr>\n",
       "      <th>5</th>\n",
       "      <td>377125</td>\n",
       "      <td>5813225</td>\n",
       "      <td>9</td>\n",
       "      <td>13</td>\n",
       "      <td>9</td>\n",
       "    </tr>\n",
       "    <tr>\n",
       "      <th>6</th>\n",
       "      <td>380275</td>\n",
       "      <td>5815425</td>\n",
       "      <td>10</td>\n",
       "      <td>14</td>\n",
       "      <td>9</td>\n",
       "    </tr>\n",
       "    <tr>\n",
       "      <th>7</th>\n",
       "      <td>379025</td>\n",
       "      <td>5814475</td>\n",
       "      <td>10</td>\n",
       "      <td>14</td>\n",
       "      <td>9</td>\n",
       "    </tr>\n",
       "    <tr>\n",
       "      <th>8</th>\n",
       "      <td>376375</td>\n",
       "      <td>5816375</td>\n",
       "      <td>13</td>\n",
       "      <td>15</td>\n",
       "      <td>10</td>\n",
       "    </tr>\n",
       "    <tr>\n",
       "      <th>9</th>\n",
       "      <td>407725</td>\n",
       "      <td>5814575</td>\n",
       "      <td>10</td>\n",
       "      <td>14</td>\n",
       "      <td>10</td>\n",
       "    </tr>\n",
       "    <tr>\n",
       "      <th>10</th>\n",
       "      <td>407925</td>\n",
       "      <td>5811975</td>\n",
       "      <td>10</td>\n",
       "      <td>15</td>\n",
       "      <td>10</td>\n",
       "    </tr>\n",
       "    <tr>\n",
       "      <th>11</th>\n",
       "      <td>389125</td>\n",
       "      <td>5810075</td>\n",
       "      <td>14</td>\n",
       "      <td>18</td>\n",
       "      <td>12</td>\n",
       "    </tr>\n",
       "    <tr>\n",
       "      <th>12</th>\n",
       "      <td>393875</td>\n",
       "      <td>5815375</td>\n",
       "      <td>17</td>\n",
       "      <td>18</td>\n",
       "      <td>12</td>\n",
       "    </tr>\n",
       "    <tr>\n",
       "      <th>13</th>\n",
       "      <td>390175</td>\n",
       "      <td>5815925</td>\n",
       "      <td>19</td>\n",
       "      <td>17</td>\n",
       "      <td>12</td>\n",
       "    </tr>\n",
       "    <tr>\n",
       "      <th>14</th>\n",
       "      <td>395875</td>\n",
       "      <td>5816925</td>\n",
       "      <td>11</td>\n",
       "      <td>15</td>\n",
       "      <td>10</td>\n",
       "    </tr>\n",
       "    <tr>\n",
       "      <th>15</th>\n",
       "      <td>382375</td>\n",
       "      <td>5822525</td>\n",
       "      <td>16</td>\n",
       "      <td>14</td>\n",
       "      <td>10</td>\n",
       "    </tr>\n",
       "    <tr>\n",
       "      <th>16</th>\n",
       "      <td>373875</td>\n",
       "      <td>5812075</td>\n",
       "      <td>9</td>\n",
       "      <td>13</td>\n",
       "      <td>9</td>\n",
       "    </tr>\n",
       "    <tr>\n",
       "      <th>17</th>\n",
       "      <td>385675</td>\n",
       "      <td>5809925</td>\n",
       "      <td>16</td>\n",
       "      <td>16</td>\n",
       "      <td>11</td>\n",
       "    </tr>\n",
       "    <tr>\n",
       "      <th>18</th>\n",
       "      <td>378575</td>\n",
       "      <td>5820025</td>\n",
       "      <td>11</td>\n",
       "      <td>14</td>\n",
       "      <td>10</td>\n",
       "    </tr>\n",
       "    <tr>\n",
       "      <th>19</th>\n",
       "      <td>372875</td>\n",
       "      <td>5807425</td>\n",
       "      <td>9</td>\n",
       "      <td>14</td>\n",
       "      <td>9</td>\n",
       "    </tr>\n",
       "  </tbody>\n",
       "</table>\n",
       "</div>"
      ],
      "text/plain": [
       "         x        y  no2  pm10  pm2.5\n",
       "0   410975  5807975   10    14     10\n",
       "1   396325  5826225   10    15     10\n",
       "2   410275  5809375    8    13      9\n",
       "3   380625  5829025   11    14     10\n",
       "4   396575  5823325   17    17     12\n",
       "5   377125  5813225    9    13      9\n",
       "6   380275  5815425   10    14      9\n",
       "7   379025  5814475   10    14      9\n",
       "8   376375  5816375   13    15     10\n",
       "9   407725  5814575   10    14     10\n",
       "10  407925  5811975   10    15     10\n",
       "11  389125  5810075   14    18     12\n",
       "12  393875  5815375   17    18     12\n",
       "13  390175  5815925   19    17     12\n",
       "14  395875  5816925   11    15     10\n",
       "15  382375  5822525   16    14     10\n",
       "16  373875  5812075    9    13      9\n",
       "17  385675  5809925   16    16     11\n",
       "18  378575  5820025   11    14     10\n",
       "19  372875  5807425    9    14      9"
      ]
     },
     "execution_count": 25,
     "metadata": {},
     "output_type": "execute_result"
    }
   ],
   "source": [
    "airquality.head(20)"
   ]
  },
  {
   "cell_type": "code",
   "execution_count": 26,
   "metadata": {},
   "outputs": [],
   "source": [
    "airquality = pd.DataFrame(airquality)\n",
    "\n",
    "#GeoDataFrame\n",
    "geometry = [Point(xy) for xy in zip(airquality[\"x\"], airquality[\"y\"])]\n",
    "#print(geometry)\n",
    "df_Airquality = gpd.GeoDataFrame(airquality, geometry=geometry)"
   ]
  },
  {
   "cell_type": "code",
   "execution_count": 27,
   "metadata": {},
   "outputs": [
    {
     "name": "stdout",
     "output_type": "stream",
     "text": [
      "EPSG:25833\n"
     ]
    }
   ],
   "source": [
    "# set correct EPSG\n",
    "df_Airquality.set_crs(epsg=25833, inplace=True)\n",
    "\n",
    "print(df_Airquality.crs)"
   ]
  },
  {
   "cell_type": "code",
   "execution_count": 28,
   "metadata": {},
   "outputs": [
    {
     "data": {
      "text/html": [
       "<div>\n",
       "<style scoped>\n",
       "    .dataframe tbody tr th:only-of-type {\n",
       "        vertical-align: middle;\n",
       "    }\n",
       "\n",
       "    .dataframe tbody tr th {\n",
       "        vertical-align: top;\n",
       "    }\n",
       "\n",
       "    .dataframe thead th {\n",
       "        text-align: right;\n",
       "    }\n",
       "</style>\n",
       "<table border=\"1\" class=\"dataframe\">\n",
       "  <thead>\n",
       "    <tr style=\"text-align: right;\">\n",
       "      <th></th>\n",
       "      <th>x</th>\n",
       "      <th>y</th>\n",
       "      <th>no2</th>\n",
       "      <th>pm10</th>\n",
       "      <th>pm2.5</th>\n",
       "      <th>geometry</th>\n",
       "    </tr>\n",
       "  </thead>\n",
       "  <tbody>\n",
       "    <tr>\n",
       "      <th>0</th>\n",
       "      <td>410975</td>\n",
       "      <td>5807975</td>\n",
       "      <td>10</td>\n",
       "      <td>14</td>\n",
       "      <td>10</td>\n",
       "      <td>POINT (13.69106 52.41475)</td>\n",
       "    </tr>\n",
       "    <tr>\n",
       "      <th>1</th>\n",
       "      <td>396325</td>\n",
       "      <td>5826225</td>\n",
       "      <td>10</td>\n",
       "      <td>15</td>\n",
       "      <td>10</td>\n",
       "      <td>POINT (13.47005 52.57618)</td>\n",
       "    </tr>\n",
       "    <tr>\n",
       "      <th>2</th>\n",
       "      <td>410275</td>\n",
       "      <td>5809375</td>\n",
       "      <td>8</td>\n",
       "      <td>13</td>\n",
       "      <td>9</td>\n",
       "      <td>POINT (13.68039 52.42721)</td>\n",
       "    </tr>\n",
       "    <tr>\n",
       "      <th>3</th>\n",
       "      <td>380625</td>\n",
       "      <td>5829025</td>\n",
       "      <td>11</td>\n",
       "      <td>14</td>\n",
       "      <td>10</td>\n",
       "      <td>POINT (13.23746 52.59812)</td>\n",
       "    </tr>\n",
       "    <tr>\n",
       "      <th>4</th>\n",
       "      <td>396575</td>\n",
       "      <td>5823325</td>\n",
       "      <td>17</td>\n",
       "      <td>17</td>\n",
       "      <td>12</td>\n",
       "      <td>POINT (13.47464 52.55016)</td>\n",
       "    </tr>\n",
       "  </tbody>\n",
       "</table>\n",
       "</div>"
      ],
      "text/plain": [
       "        x        y  no2  pm10  pm2.5                   geometry\n",
       "0  410975  5807975   10    14     10  POINT (13.69106 52.41475)\n",
       "1  396325  5826225   10    15     10  POINT (13.47005 52.57618)\n",
       "2  410275  5809375    8    13      9  POINT (13.68039 52.42721)\n",
       "3  380625  5829025   11    14     10  POINT (13.23746 52.59812)\n",
       "4  396575  5823325   17    17     12  POINT (13.47464 52.55016)"
      ]
     },
     "execution_count": 28,
     "metadata": {},
     "output_type": "execute_result"
    }
   ],
   "source": [
    "\n",
    "#Convert to EPSG:4326\n",
    "df_Airquality = df_Airquality.to_crs(\"EPSG:4326\")\n",
    "\n",
    "df_Airquality.head()"
   ]
  },
  {
   "cell_type": "code",
   "execution_count": 29,
   "metadata": {},
   "outputs": [
    {
     "name": "stdout",
     "output_type": "stream",
     "text": [
      "EPSG:4326\n",
      "EPSG:4326\n"
     ]
    }
   ],
   "source": [
    "\"\"\"\n",
    "------------------------------------------------------------------------------\n",
    "CSR (coordinate reference system)\n",
    "------------------------------------------------------------------------------\n",
    "\"\"\"\n",
    "\n",
    "#Check CRS\n",
    "print(admin_areas.crs)\n",
    "print(df_Airquality.crs)"
   ]
  },
  {
   "cell_type": "code",
   "execution_count": 30,
   "metadata": {},
   "outputs": [],
   "source": [
    "#Ensure both GeoDataFrames have the same CRS \n",
    "if admin_areas.crs != df_Airquality.crs:\n",
    "    df_Airquality = df_Airquality.to_crs(admin_areas.crs)"
   ]
  },
  {
   "cell_type": "code",
   "execution_count": 31,
   "metadata": {},
   "outputs": [
    {
     "name": "stdout",
     "output_type": "stream",
     "text": [
      "Empty geometry in df_Airquality: 0\n",
      "Invalid in df_Airquality: 0\n"
     ]
    }
   ],
   "source": [
    "\"\"\"\n",
    "------------------------------------------------------------------------------\n",
    "Checking invalid geometries\n",
    "------------------------------------------------------------------------------\n",
    "\"\"\"\n",
    "\n",
    "#Check the combined dataframe for empty or invalid geometries\n",
    "print(f\"Empty geometry in df_Airquality: {len(df_Airquality[df_Airquality.is_empty])}\")\n",
    "print(f\"Invalid in df_Airquality: {len(df_Airquality[~df_Airquality.is_valid])}\")"
   ]
  },
  {
   "cell_type": "code",
   "execution_count": 32,
   "metadata": {},
   "outputs": [
    {
     "data": {
      "text/plain": [
       "(360765, 6)"
      ]
     },
     "execution_count": 32,
     "metadata": {},
     "output_type": "execute_result"
    }
   ],
   "source": [
    "\"\"\"\n",
    "------------------------------------------------------------------------------\n",
    "Data exploration\n",
    "------------------------------------------------------------------------------\n",
    "\"\"\"\n",
    "\n",
    "df_Airquality.shape"
   ]
  },
  {
   "cell_type": "code",
   "execution_count": 33,
   "metadata": {},
   "outputs": [
    {
     "data": {
      "text/plain": [
       "x           0\n",
       "y           0\n",
       "no2         0\n",
       "pm10        0\n",
       "pm2.5       0\n",
       "geometry    0\n",
       "dtype: int64"
      ]
     },
     "execution_count": 33,
     "metadata": {},
     "output_type": "execute_result"
    }
   ],
   "source": [
    "df_Airquality.isna().sum()"
   ]
  },
  {
   "cell_type": "code",
   "execution_count": 34,
   "metadata": {},
   "outputs": [
    {
     "data": {
      "text/plain": [
       "x              int64\n",
       "y              int64\n",
       "no2            int64\n",
       "pm10           int64\n",
       "pm2.5          int64\n",
       "geometry    geometry\n",
       "dtype: object"
      ]
     },
     "execution_count": 34,
     "metadata": {},
     "output_type": "execute_result"
    }
   ],
   "source": [
    "df_Airquality.dtypes"
   ]
  },
  {
   "cell_type": "code",
   "execution_count": 35,
   "metadata": {},
   "outputs": [
    {
     "data": {
      "text/plain": [
       "<Axes: >"
      ]
     },
     "execution_count": 35,
     "metadata": {},
     "output_type": "execute_result"
    },
    {
     "data": {
      "image/png": "[encoded data removed]",
      "text/plain": [
       "<Figure size 640x480 with 1 Axes>"
      ]
     },
     "metadata": {},
     "output_type": "display_data"
    }
   ],
   "source": [
    "df_Airquality.plot()"
   ]
  },
  {
   "cell_type": "code",
   "execution_count": 36,
   "metadata": {},
   "outputs": [],
   "source": [
    "\"\"\"\n",
    "------------------------------------------------------------------------------\n",
    "Function\n",
    "airquality by admin area\n",
    "Mean no2\n",
    "------------------------------------------------------------------------------\n",
    "\"\"\"\n",
    "\n",
    "#NO2\n",
    "def calculate_mean_no2(admin_area, df_Airquality):\n",
    "    #find intersections between the airquality dataframe and admin areas\n",
    "    intersections = df_Airquality[df_Airquality.intersects(admin_area.geometry)]  \n",
    "    \n",
    "    #Mean no2\n",
    "    Mean_no2 = intersections[\"no2\"].mean().round(2)\n",
    "\n",
    "    print(f\"Admin Area: {admin_area[\"pgr_name\"]}, Mean_no2 : {Mean_no2}\")\n",
    "    \n",
    "    return  Mean_no2\n",
    "\n",
    "\n",
    "#PM2.5\n",
    "def calculate_mean_pm25(admin_area, df_Airquality):\n",
    "    #find intersections between the airquality dataframe and admin areas\n",
    "    intersections = df_Airquality[df_Airquality.intersects(admin_area.geometry)]  \n",
    "    \n",
    "    #Mean pm25\n",
    "    Mean_pm25 = intersections[\"pm2.5\"].mean().round(2)\n",
    "\n",
    "    print(f\"Admin Area: {admin_area[\"pgr_name\"]}, Mean_pm25 : {Mean_pm25}\")\n",
    "    \n",
    "    return   Mean_pm25"
   ]
  },
  {
   "cell_type": "code",
   "execution_count": 37,
   "metadata": {},
   "outputs": [
    {
     "data": {
      "text/plain": [
       "18.48"
      ]
     },
     "execution_count": 37,
     "metadata": {},
     "output_type": "execute_result"
    }
   ],
   "source": [
    "# Test for one admin area\n",
    "intersections = df_Airquality[df_Airquality.intersects(admin_areas.iloc[0].geometry)]\n",
    "Mean_no2 = intersections[\"no2\"].mean().round(2)\n",
    "Mean_no2"
   ]
  },
  {
   "cell_type": "code",
   "execution_count": 38,
   "metadata": {},
   "outputs": [
    {
     "data": {
      "image/png": "[encoded data removed]",
      "text/plain": [
       "<Figure size 1000x1000 with 1 Axes>"
      ]
     },
     "metadata": {},
     "output_type": "display_data"
    }
   ],
   "source": [
    "# Test plot\n",
    "fig, ax = plt.subplots(figsize=(10,10))\n",
    "admin_areas.boundary.plot(ax=ax, color=\"blue\", label=\"Admin Area\")\n",
    "df_Airquality.plot(ax=ax, color=\"red\", markersize=5, label=\"Air Quality\")\n",
    "plt.legend()\n",
    "plt.show()"
   ]
  },
  {
   "cell_type": "code",
   "execution_count": 39,
   "metadata": {},
   "outputs": [
    {
     "name": "stdout",
     "output_type": "stream",
     "text": [
      "Admin Area: Südlicher Prenzlauer Berg, Mean_no2 : 18.48\n",
      "Admin Area: Kreuzberg Süd, Mean_no2 : 17.45\n",
      "Admin Area: Marienfelde / Lichtenrade, Mean_no2 : 13.23\n",
      "Admin Area: Wilhelmstadt / Staaken, Mean_no2 : 12.32\n",
      "Admin Area: Nördliches Weißensee, Mean_no2 : 12.57\n",
      "Admin Area: Tempelhof, Mean_no2 : 17.81\n",
      "Admin Area: Lichtenberg Nord, Mean_no2 : 16.09\n",
      "Admin Area: Lichtenberg Mitte, Mean_no2 : 14.99\n",
      "Admin Area: Hellersdorf, Mean_no2 : 13.42\n",
      "Admin Area: Buch, Mean_no2 : 11.37\n",
      "Admin Area: Hohenschönhausen Nord, Mean_no2 : 12.12\n",
      "Admin Area: Kaulsdorf/Mahlsdorf, Mean_no2 : 12.31\n",
      "Admin Area: Treptow-Köpenick 1, Mean_no2 : 15.83\n",
      "Admin Area: Tegel, Mean_no2 : 13.73\n",
      "Admin Area: Mariendorf, Mean_no2 : 14.3\n",
      "Admin Area: Friedrichshain Ost, Mean_no2 : 16.57\n",
      "Admin Area: Nördlicher Prenzlauer Berg, Mean_no2 : 17.32\n",
      "Admin Area: Charlottenburg Nord, Mean_no2 : 16.5\n",
      "Admin Area: Lankwitz/Lichterfelde Ost, Mean_no2 : 13.51\n",
      "Admin Area: Schöneberg Nord, Mean_no2 : 17.02\n",
      "Admin Area: Neukölln, Mean_no2 : 18.37\n",
      "Admin Area: Zehlendorf Nord/Wannsee, Mean_no2 : 10.88\n",
      "Admin Area: Wilmersdorf Süd, Mean_no2 : 14.34\n",
      "Admin Area: Grüner Norden, Mean_no2 : 11.19\n",
      "Admin Area: Zentrum, Mean_no2 : 18.56\n",
      "Admin Area: Schöneberg Süd, Mean_no2 : 17.52\n",
      "Admin Area: Gesundbrunnen, Mean_no2 : 16.96\n",
      "Admin Area: Gatow / Kladow, Mean_no2 : 10.11\n",
      "Admin Area: Nördliches Pankow, Mean_no2 : 11.37\n",
      "Admin Area: Treptow-Köpenick 5, Mean_no2 : 10.24\n",
      "Admin Area: Buckow Nord/Rudow, Mean_no2 : 13.92\n",
      "Admin Area: Moabit, Mean_no2 : 18.63\n",
      "Admin Area: Gropiusstadt, Mean_no2 : 14.61\n",
      "Admin Area: Lichtenberg Süd, Mean_no2 : 12.92\n",
      "Admin Area: Treptow-Köpenick 3, Mean_no2 : 11.39\n",
      "Admin Area: Kreuzberg Ost, Mean_no2 : 16.2\n",
      "Admin Area: Treptow-Köpenick 2, Mean_no2 : 14.57\n",
      "Admin Area: Spandau Mitte / Nord, Mean_no2 : 11.99\n",
      "Admin Area: Wittenau/Borsigwalde, Mean_no2 : 13.11\n",
      "Admin Area: Biesdorf, Mean_no2 : 13.33\n",
      "Admin Area: Wilmersdorf Zentrum, Mean_no2 : 18.35\n",
      "Admin Area: Märkisches Viertel, Mean_no2 : 13.96\n",
      "Admin Area: Kreuzberg Nord, Mean_no2 : 17.69\n",
      "Admin Area: Haselhorst / Siemensstadt, Mean_no2 : 15.13\n",
      "Admin Area: Hohenschönhausen Süd, Mean_no2 : 14.08\n",
      "Admin Area: Zehlendorf Süd/Lichterfelde West, Mean_no2 : 13.35\n",
      "Admin Area: Südliches Pankow, Mean_no2 : 15.24\n",
      "Admin Area: Steglitz, Mean_no2 : 16.75\n",
      "Admin Area: Friedrichshain West, Mean_no2 : 18.98\n",
      "Admin Area: Wedding, Mean_no2 : 16.68\n",
      "Admin Area: Britz/Buckow, Mean_no2 : 15.17\n",
      "Admin Area: Charlottenburg Zentrum, Mean_no2 : 17.86\n",
      "Admin Area: Reinickendorf Ost, Mean_no2 : 16.48\n",
      "Admin Area: Treptow-Köpenick 4, Mean_no2 : 10.25\n",
      "Admin Area: Südliches Weißensee, Mean_no2 : 14.94\n",
      "Admin Area: Charlottenburg West, Mean_no2 : 12.21\n",
      "Admin Area: Friedenau, Mean_no2 : 17.54\n",
      "Admin Area: Marzahn, Mean_no2 : 14.3\n"
     ]
    }
   ],
   "source": [
    "#Calculation of mean no2 for each administrative area\n",
    "admin_areas[\"Mean_no2\"] = admin_areas.apply(\n",
    "    lambda row: calculate_mean_no2(row, df_Airquality), axis=1\n",
    ")\n"
   ]
  },
  {
   "cell_type": "code",
   "execution_count": 40,
   "metadata": {},
   "outputs": [
    {
     "name": "stdout",
     "output_type": "stream",
     "text": [
      "Admin Area: Südlicher Prenzlauer Berg, Mean_pm25 : 11.45\n",
      "Admin Area: Kreuzberg Süd, Mean_pm25 : 11.13\n",
      "Admin Area: Marienfelde / Lichtenrade, Mean_pm25 : 10.71\n",
      "Admin Area: Wilhelmstadt / Staaken, Mean_pm25 : 10.44\n",
      "Admin Area: Nördliches Weißensee, Mean_pm25 : 10.77\n",
      "Admin Area: Tempelhof, Mean_pm25 : 10.71\n",
      "Admin Area: Lichtenberg Nord, Mean_pm25 : 11.16\n",
      "Admin Area: Lichtenberg Mitte, Mean_pm25 : 11.26\n",
      "Admin Area: Hellersdorf, Mean_pm25 : 11.07\n",
      "Admin Area: Buch, Mean_pm25 : 9.95\n",
      "Admin Area: Hohenschönhausen Nord, Mean_pm25 : 10.85\n",
      "Admin Area: Kaulsdorf/Mahlsdorf, Mean_pm25 : 11.0\n",
      "Admin Area: Treptow-Köpenick 1, Mean_pm25 : 10.81\n",
      "Admin Area: Tegel, Mean_pm25 : 10.43\n",
      "Admin Area: Mariendorf, Mean_pm25 : 10.98\n",
      "Admin Area: Friedrichshain Ost, Mean_pm25 : 11.41\n",
      "Admin Area: Nördlicher Prenzlauer Berg, Mean_pm25 : 11.36\n",
      "Admin Area: Charlottenburg Nord, Mean_pm25 : 10.59\n",
      "Admin Area: Lankwitz/Lichterfelde Ost, Mean_pm25 : 10.75\n",
      "Admin Area: Schöneberg Nord, Mean_pm25 : 11.41\n",
      "Admin Area: Neukölln, Mean_pm25 : 11.08\n",
      "Admin Area: Zehlendorf Nord/Wannsee, Mean_pm25 : 9.62\n",
      "Admin Area: Wilmersdorf Süd, Mean_pm25 : 10.45\n",
      "Admin Area: Grüner Norden, Mean_pm25 : 10.18\n",
      "Admin Area: Zentrum, Mean_pm25 : 11.13\n",
      "Admin Area: Schöneberg Süd, Mean_pm25 : 11.14\n",
      "Admin Area: Gesundbrunnen, Mean_pm25 : 11.36\n",
      "Admin Area: Gatow / Kladow, Mean_pm25 : 9.61\n",
      "Admin Area: Nördliches Pankow, Mean_pm25 : 10.45\n",
      "Admin Area: Treptow-Köpenick 5, Mean_pm25 : 9.87\n",
      "Admin Area: Buckow Nord/Rudow, Mean_pm25 : 11.1\n",
      "Admin Area: Moabit, Mean_pm25 : 11.02\n",
      "Admin Area: Gropiusstadt, Mean_pm25 : 11.54\n",
      "Admin Area: Lichtenberg Süd, Mean_pm25 : 10.8\n",
      "Admin Area: Treptow-Köpenick 3, Mean_pm25 : 10.31\n",
      "Admin Area: Kreuzberg Ost, Mean_pm25 : 11.27\n",
      "Admin Area: Treptow-Köpenick 2, Mean_pm25 : 10.57\n",
      "Admin Area: Spandau Mitte / Nord, Mean_pm25 : 10.25\n",
      "Admin Area: Wittenau/Borsigwalde, Mean_pm25 : 10.66\n",
      "Admin Area: Biesdorf, Mean_pm25 : 11.05\n",
      "Admin Area: Wilmersdorf Zentrum, Mean_pm25 : 11.27\n",
      "Admin Area: Märkisches Viertel, Mean_pm25 : 10.96\n",
      "Admin Area: Kreuzberg Nord, Mean_pm25 : 11.37\n",
      "Admin Area: Haselhorst / Siemensstadt, Mean_pm25 : 10.33\n",
      "Admin Area: Hohenschönhausen Süd, Mean_pm25 : 11.26\n",
      "Admin Area: Zehlendorf Süd/Lichterfelde West, Mean_pm25 : 10.52\n",
      "Admin Area: Südliches Pankow, Mean_pm25 : 11.4\n",
      "Admin Area: Steglitz, Mean_pm25 : 11.22\n",
      "Admin Area: Friedrichshain West, Mean_pm25 : 11.35\n",
      "Admin Area: Wedding, Mean_pm25 : 10.99\n",
      "Admin Area: Britz/Buckow, Mean_pm25 : 10.84\n",
      "Admin Area: Charlottenburg Zentrum, Mean_pm25 : 10.96\n",
      "Admin Area: Reinickendorf Ost, Mean_pm25 : 11.06\n",
      "Admin Area: Treptow-Köpenick 4, Mean_pm25 : 9.99\n",
      "Admin Area: Südliches Weißensee, Mean_pm25 : 11.23\n",
      "Admin Area: Charlottenburg West, Mean_pm25 : 9.8\n",
      "Admin Area: Friedenau, Mean_pm25 : 11.08\n",
      "Admin Area: Marzahn, Mean_pm25 : 11.13\n"
     ]
    }
   ],
   "source": [
    "#Calculation of mean pm2.5 for each administrative area\n",
    "admin_areas[\"Mean_pm25\"] = admin_areas.apply(\n",
    "    lambda row: calculate_mean_pm25(row, df_Airquality), axis=1\n",
    ")"
   ]
  },
  {
   "cell_type": "code",
   "execution_count": 41,
   "metadata": {},
   "outputs": [
    {
     "name": "stderr",
     "output_type": "stream",
     "text": [
      "/var/folders/_f/022l68353h9c2pr_3t55ns1m0000gn/T/ipykernel_22849/442935361.py:4: SettingWithCopyWarning: \n",
      "A value is trying to be set on a copy of a slice from a DataFrame\n",
      "\n",
      "See the caveats in the documentation: https://pandas.pydata.org/pandas-docs/stable/user_guide/indexing.html#returning-a-view-versus-a-copy\n",
      "  df_Airquality_no2.sort_values(by=\"Mean_pm25\", ascending=False, inplace=True)\n"
     ]
    },
    {
     "data": {
      "text/html": [
       "<div>\n",
       "<style scoped>\n",
       "    .dataframe tbody tr th:only-of-type {\n",
       "        vertical-align: middle;\n",
       "    }\n",
       "\n",
       "    .dataframe tbody tr th {\n",
       "        vertical-align: top;\n",
       "    }\n",
       "\n",
       "    .dataframe thead th {\n",
       "        text-align: right;\n",
       "    }\n",
       "</style>\n",
       "<table border=\"1\" class=\"dataframe\">\n",
       "  <thead>\n",
       "    <tr style=\"text-align: right;\">\n",
       "      <th></th>\n",
       "      <th>pgr_id</th>\n",
       "      <th>pgr_name</th>\n",
       "      <th>Mean_no2</th>\n",
       "      <th>Mean_pm25</th>\n",
       "    </tr>\n",
       "  </thead>\n",
       "  <tbody>\n",
       "    <tr>\n",
       "      <th>0</th>\n",
       "      <td>0830</td>\n",
       "      <td>Gropiusstadt</td>\n",
       "      <td>14.61</td>\n",
       "      <td>11.54</td>\n",
       "    </tr>\n",
       "    <tr>\n",
       "      <th>1</th>\n",
       "      <td>0370</td>\n",
       "      <td>Südlicher Prenzlauer Berg</td>\n",
       "      <td>18.48</td>\n",
       "      <td>11.45</td>\n",
       "    </tr>\n",
       "    <tr>\n",
       "      <th>2</th>\n",
       "      <td>0250</td>\n",
       "      <td>Friedrichshain Ost</td>\n",
       "      <td>16.57</td>\n",
       "      <td>11.41</td>\n",
       "    </tr>\n",
       "    <tr>\n",
       "      <th>3</th>\n",
       "      <td>0710</td>\n",
       "      <td>Schöneberg Nord</td>\n",
       "      <td>17.02</td>\n",
       "      <td>11.41</td>\n",
       "    </tr>\n",
       "    <tr>\n",
       "      <th>4</th>\n",
       "      <td>0340</td>\n",
       "      <td>Südliches Pankow</td>\n",
       "      <td>15.24</td>\n",
       "      <td>11.40</td>\n",
       "    </tr>\n",
       "    <tr>\n",
       "      <th>5</th>\n",
       "      <td>0210</td>\n",
       "      <td>Kreuzberg Nord</td>\n",
       "      <td>17.69</td>\n",
       "      <td>11.37</td>\n",
       "    </tr>\n",
       "    <tr>\n",
       "      <th>6</th>\n",
       "      <td>0130</td>\n",
       "      <td>Gesundbrunnen</td>\n",
       "      <td>16.96</td>\n",
       "      <td>11.36</td>\n",
       "    </tr>\n",
       "    <tr>\n",
       "      <th>7</th>\n",
       "      <td>0360</td>\n",
       "      <td>Nördlicher Prenzlauer Berg</td>\n",
       "      <td>17.32</td>\n",
       "      <td>11.36</td>\n",
       "    </tr>\n",
       "    <tr>\n",
       "      <th>8</th>\n",
       "      <td>0240</td>\n",
       "      <td>Friedrichshain West</td>\n",
       "      <td>18.98</td>\n",
       "      <td>11.35</td>\n",
       "    </tr>\n",
       "    <tr>\n",
       "      <th>9</th>\n",
       "      <td>0450</td>\n",
       "      <td>Wilmersdorf Zentrum</td>\n",
       "      <td>18.35</td>\n",
       "      <td>11.27</td>\n",
       "    </tr>\n",
       "    <tr>\n",
       "      <th>10</th>\n",
       "      <td>0230</td>\n",
       "      <td>Kreuzberg Ost</td>\n",
       "      <td>16.20</td>\n",
       "      <td>11.27</td>\n",
       "    </tr>\n",
       "    <tr>\n",
       "      <th>11</th>\n",
       "      <td>1140</td>\n",
       "      <td>Lichtenberg Mitte</td>\n",
       "      <td>14.99</td>\n",
       "      <td>11.26</td>\n",
       "    </tr>\n",
       "    <tr>\n",
       "      <th>12</th>\n",
       "      <td>1120</td>\n",
       "      <td>Hohenschönhausen Süd</td>\n",
       "      <td>14.08</td>\n",
       "      <td>11.26</td>\n",
       "    </tr>\n",
       "    <tr>\n",
       "      <th>13</th>\n",
       "      <td>0350</td>\n",
       "      <td>Südliches Weißensee</td>\n",
       "      <td>14.94</td>\n",
       "      <td>11.23</td>\n",
       "    </tr>\n",
       "    <tr>\n",
       "      <th>14</th>\n",
       "      <td>0610</td>\n",
       "      <td>Steglitz</td>\n",
       "      <td>16.75</td>\n",
       "      <td>11.22</td>\n",
       "    </tr>\n",
       "    <tr>\n",
       "      <th>15</th>\n",
       "      <td>1130</td>\n",
       "      <td>Lichtenberg Nord</td>\n",
       "      <td>16.09</td>\n",
       "      <td>11.16</td>\n",
       "    </tr>\n",
       "    <tr>\n",
       "      <th>16</th>\n",
       "      <td>0720</td>\n",
       "      <td>Schöneberg Süd</td>\n",
       "      <td>17.52</td>\n",
       "      <td>11.14</td>\n",
       "    </tr>\n",
       "    <tr>\n",
       "      <th>17</th>\n",
       "      <td>0220</td>\n",
       "      <td>Kreuzberg Süd</td>\n",
       "      <td>17.45</td>\n",
       "      <td>11.13</td>\n",
       "    </tr>\n",
       "    <tr>\n",
       "      <th>18</th>\n",
       "      <td>0110</td>\n",
       "      <td>Zentrum</td>\n",
       "      <td>18.56</td>\n",
       "      <td>11.13</td>\n",
       "    </tr>\n",
       "    <tr>\n",
       "      <th>19</th>\n",
       "      <td>1010</td>\n",
       "      <td>Marzahn</td>\n",
       "      <td>14.30</td>\n",
       "      <td>11.13</td>\n",
       "    </tr>\n",
       "  </tbody>\n",
       "</table>\n",
       "</div>"
      ],
      "text/plain": [
       "   pgr_id                    pgr_name  Mean_no2  Mean_pm25\n",
       "0    0830                Gropiusstadt     14.61      11.54\n",
       "1    0370   Südlicher Prenzlauer Berg     18.48      11.45\n",
       "2    0250          Friedrichshain Ost     16.57      11.41\n",
       "3    0710             Schöneberg Nord     17.02      11.41\n",
       "4    0340            Südliches Pankow     15.24      11.40\n",
       "5    0210              Kreuzberg Nord     17.69      11.37\n",
       "6    0130               Gesundbrunnen     16.96      11.36\n",
       "7    0360  Nördlicher Prenzlauer Berg     17.32      11.36\n",
       "8    0240         Friedrichshain West     18.98      11.35\n",
       "9    0450         Wilmersdorf Zentrum     18.35      11.27\n",
       "10   0230               Kreuzberg Ost     16.20      11.27\n",
       "11   1140           Lichtenberg Mitte     14.99      11.26\n",
       "12   1120        Hohenschönhausen Süd     14.08      11.26\n",
       "13   0350         Südliches Weißensee     14.94      11.23\n",
       "14   0610                    Steglitz     16.75      11.22\n",
       "15   1130            Lichtenberg Nord     16.09      11.16\n",
       "16   0720              Schöneberg Süd     17.52      11.14\n",
       "17   0220               Kreuzberg Süd     17.45      11.13\n",
       "18   0110                     Zentrum     18.56      11.13\n",
       "19   1010                     Marzahn     14.30      11.13"
      ]
     },
     "execution_count": 41,
     "metadata": {},
     "output_type": "execute_result"
    }
   ],
   "source": [
    "#Data frame\n",
    "df_Airquality_no2 = admin_areas[[\"pgr_id\", \"pgr_name\", \"Mean_no2\", \"Mean_pm25\"]]\n",
    "#sort values descending\n",
    "df_Airquality_no2.sort_values(by=\"Mean_pm25\", ascending=False, inplace=True)\n",
    "df_Airquality_no2.reset_index(drop=True, inplace=True)\n",
    "\n",
    "\n",
    "df_Airquality_no2.head(20)"
   ]
  },
  {
   "cell_type": "code",
   "execution_count": 45,
   "metadata": {},
   "outputs": [
    {
     "data": {
      "text/plain": [
       "10.11"
      ]
     },
     "execution_count": 45,
     "metadata": {},
     "output_type": "execute_result"
    }
   ],
   "source": [
    "#Min max\n",
    "df_Airquality_no2[\"Mean_no2\"].min()"
   ]
  },
  {
   "cell_type": "code",
   "execution_count": 46,
   "metadata": {},
   "outputs": [
    {
     "data": {
      "text/plain": [
       "18.98"
      ]
     },
     "execution_count": 46,
     "metadata": {},
     "output_type": "execute_result"
    }
   ],
   "source": [
    "df_Airquality_no2[\"Mean_no2\"].max()"
   ]
  },
  {
   "cell_type": "code",
   "execution_count": 47,
   "metadata": {},
   "outputs": [
    {
     "data": {
      "text/plain": [
       "9.61"
      ]
     },
     "execution_count": 47,
     "metadata": {},
     "output_type": "execute_result"
    }
   ],
   "source": [
    "df_Airquality_no2[\"Mean_pm25\"].min()"
   ]
  },
  {
   "cell_type": "code",
   "execution_count": 48,
   "metadata": {},
   "outputs": [
    {
     "data": {
      "text/plain": [
       "11.54"
      ]
     },
     "execution_count": 48,
     "metadata": {},
     "output_type": "execute_result"
    }
   ],
   "source": [
    "df_Airquality_no2[\"Mean_pm25\"].max()"
   ]
  },
  {
   "cell_type": "code",
   "execution_count": 49,
   "metadata": {},
   "outputs": [],
   "source": [
    "#CSV\n",
    "df_Airquality_no2.to_csv(\"../data/csv/airqualityNo2.csv\", index=False)"
   ]
  }
 ],
 "metadata": {
  "kernelspec": {
   "display_name": "base",
   "language": "python",
   "name": "python3"
  },
  "language_info": {
   "codemirror_mode": {
    "name": "ipython",
    "version": 3
   },
   "file_extension": ".py",
   "mimetype": "text/x-python",
   "name": "python",
   "nbconvert_exporter": "python",
   "pygments_lexer": "ipython3",
   "version": "3.12.4"
  }
 },
 "nbformat": 4,
 "nbformat_minor": 2
}
