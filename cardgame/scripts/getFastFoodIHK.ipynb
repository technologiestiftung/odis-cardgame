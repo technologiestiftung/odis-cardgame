{
 "cells": [
  {
   "cell_type": "code",
   "execution_count": null,
   "metadata": {},
   "outputs": [],
   "source": [
    "\"\"\"\n",
    "------------------------------------------------------------------------------\n",
    "About\n",
    "In this data analysis, the number of fast food stalls listed at IHK is calculated \n",
    "for each admin area. \n",
    "------------------------------------------------------------------------------\n",
    "\"\"\""
   ]
  },
  {
   "cell_type": "code",
   "execution_count": null,
   "metadata": {},
   "outputs": [],
   "source": [
    "\"\"\"\n",
    "------------------------------------------------------------------------------\n",
    "Libraries\n",
    "------------------------------------------------------------------------------\n",
    "\"\"\"\n",
    "\n",
    "import pandas as pd\n",
    "import geopandas as gpd\n",
    "\n",
    "import matplotlib.pyplot as plt\n",
    "\n",
    "from shapely.geometry import Point,Polygon, box"
   ]
  },
  {
   "cell_type": "code",
   "execution_count": null,
   "metadata": {},
   "outputs": [],
   "source": [
    "\"\"\"\n",
    "------------------------------------------------------------------------------\n",
    "Import data\n",
    "------------------------------------------------------------------------------\n",
    "\"\"\"\n",
    "\n",
    "df = pd.read_csv(\"../data/raw/IHKBerlin_Gewerbedaten.txt\", dtype={\"opendata_id\": str, \"planungsraum_id\": str})\n",
    "\n",
    "df.head(20)"
   ]
  },
  {
   "cell_type": "code",
   "execution_count": null,
   "metadata": {},
   "outputs": [],
   "source": [
    "#subset\n",
    "df_ihk = df[[\"latitude\", \"longitude\",\"ihk_branch_id\", \"ihk_branch_desc\", \"nace_desc\", \"branch_top_level_desc\", \"business_type\", \"planungsraum_id\",\"Prognoseraum\", \"Ortsteil\"]]\n",
    "\n",
    "df_ihk.head()\n"
   ]
  },
  {
   "cell_type": "code",
   "execution_count": null,
   "metadata": {},
   "outputs": [],
   "source": [
    "#add column pgr_id\n",
    "df_ihk[\"pgr_id\"] = df_ihk[\"planungsraum_id\"].str[:4]\n",
    "\n",
    "df_ihk.head()"
   ]
  },
  {
   "cell_type": "code",
   "execution_count": null,
   "metadata": {},
   "outputs": [],
   "source": [
    "#NAs\n",
    "df_ihk.isna().sum()"
   ]
  },
  {
   "cell_type": "code",
   "execution_count": null,
   "metadata": {},
   "outputs": [],
   "source": [
    "#drop relevant NAs\n",
    "df_ihk.dropna(subset = \"ihk_branch_desc\", inplace=True)"
   ]
  },
  {
   "cell_type": "code",
   "execution_count": null,
   "metadata": {},
   "outputs": [],
   "source": [
    "#unique values\n",
    "df_ihk[\"business_type\"].unique()"
   ]
  },
  {
   "cell_type": "code",
   "execution_count": null,
   "metadata": {},
   "outputs": [],
   "source": [
    "df_ihk[\"branch_top_level_desc\"].unique()"
   ]
  },
  {
   "cell_type": "code",
   "execution_count": null,
   "metadata": {},
   "outputs": [],
   "source": [
    "df_ihk[\"nace_desc\"].unique()"
   ]
  },
  {
   "cell_type": "code",
   "execution_count": null,
   "metadata": {},
   "outputs": [],
   "source": [
    "#subset \"Gastronomie\"\n",
    "df_gastro = df_ihk[df_ihk[\"branch_top_level_desc\"] == \"Gastronomie\"]\n",
    "\n",
    "df_gastro.head()"
   ]
  },
  {
   "cell_type": "code",
   "execution_count": null,
   "metadata": {},
   "outputs": [],
   "source": [
    "#unique values\n",
    "df_gastro[\"ihk_branch_desc\"].unique()"
   ]
  },
  {
   "cell_type": "code",
   "execution_count": null,
   "metadata": {},
   "outputs": [],
   "source": [
    "#category Imbissstuben u.ä.\n",
    "df_imbiss = df_gastro[(df_gastro[\"ihk_branch_desc\"] == \"Imbissstuben u.ä.\")]\n",
    "\n",
    "df_imbiss.rename(columns={\"Prognoseraum\": \"pgr_name\"}, inplace=True)\n",
    "df_imbiss.head()"
   ]
  },
  {
   "cell_type": "code",
   "execution_count": null,
   "metadata": {},
   "outputs": [],
   "source": [
    "df_imbiss.shape"
   ]
  },
  {
   "cell_type": "code",
   "execution_count": null,
   "metadata": {},
   "outputs": [],
   "source": [
    "df_imbiss.isna().sum()"
   ]
  },
  {
   "cell_type": "code",
   "execution_count": null,
   "metadata": {},
   "outputs": [],
   "source": [
    "#row with NA\n",
    "print(df_imbiss[df_imbiss.isna().any(axis=1)])\n"
   ]
  },
  {
   "cell_type": "code",
   "execution_count": null,
   "metadata": {},
   "outputs": [],
   "source": [
    "#total number of Imbisstuben u.ä.\n",
    "branchCount = df_imbiss.ihk_branch_desc.value_counts()\n",
    "\n",
    "\n",
    "branchCount"
   ]
  },
  {
   "cell_type": "code",
   "execution_count": null,
   "metadata": {},
   "outputs": [],
   "source": [
    "#check pgr_id\n",
    "df_imbiss[\"pgr_id\"].unique()"
   ]
  },
  {
   "cell_type": "code",
   "execution_count": null,
   "metadata": {},
   "outputs": [],
   "source": [
    "\n",
    "#group by pgr_name and count rows\n",
    "df_imbissCount = df_imbiss.groupby(\"pgr_name\").size().reset_index(name=\"no_Imbiss\")\n",
    "#add first value pgr_id\n",
    "df_imbissCount[\"pgr_id\"] = df_imbiss.groupby(\"pgr_name\")[\"pgr_id\"].first().values\n",
    "\n",
    "#subset\n",
    "imbissCount= df_imbissCount[[\"pgr_id\", \"pgr_name\", \"no_Imbiss\"]]\n",
    "\n",
    "#sort descending\n",
    "imbissCount.sort_values(by=\"no_Imbiss\", ascending=False, inplace=True)\n",
    "imbissCount.reset_index(drop=True, inplace=True)\n",
    "\n",
    "imbissCount\n"
   ]
  },
  {
   "cell_type": "code",
   "execution_count": null,
   "metadata": {},
   "outputs": [],
   "source": [
    "#csv\n",
    "imbissCount.to_csv(\"../data/csv/fastFoodIHK.csv\", index=False)"
   ]
  },
  {
   "cell_type": "code",
   "execution_count": null,
   "metadata": {},
   "outputs": [],
   "source": [
    "\"\"\"\n",
    "------------------------------------------------------------------------------\n",
    "MAPS\n",
    "\n",
    "GeoJSON and SVG files for the intersections per admin area\n",
    "------------------------------------------------------------------------------\n",
    "\"\"\""
   ]
  },
  {
   "cell_type": "code",
   "execution_count": null,
   "metadata": {},
   "outputs": [],
   "source": [
    "df_imbiss.head()"
   ]
  },
  {
   "cell_type": "code",
   "execution_count": null,
   "metadata": {},
   "outputs": [],
   "source": [
    "\"\"\"\n",
    "------------------------------------------------------------------------------\n",
    "Geo data frame\n",
    "------------------------------------------------------------------------------\n",
    "\"\"\"\n",
    "\n",
    "#point geometry from longitude and latitude\n",
    "geometry = [Point(xy) for xy in zip(df_imbiss[\"longitude\"], df_imbiss[\"latitude\"])]\n",
    "#geo data frame\n",
    "gdf_imbiss = gpd.GeoDataFrame(df_imbiss, geometry=geometry)"
   ]
  },
  {
   "cell_type": "code",
   "execution_count": null,
   "metadata": {},
   "outputs": [],
   "source": [
    "#crs\n",
    "gdf_imbiss.set_crs(epsg=4326, inplace=True)"
   ]
  },
  {
   "cell_type": "code",
   "execution_count": null,
   "metadata": {},
   "outputs": [],
   "source": [
    "#import data admin areas\n",
    "admin_areas = gpd.read_file(\"../data/raw/Prognoseräume.json\")\n",
    "\n",
    "admin_areas.head()"
   ]
  },
  {
   "cell_type": "code",
   "execution_count": null,
   "metadata": {},
   "outputs": [],
   "source": [
    "#check crs\n",
    "admin_areas.crs"
   ]
  },
  {
   "cell_type": "code",
   "execution_count": null,
   "metadata": {},
   "outputs": [],
   "source": [
    "\"\"\"\n",
    "------------------------------------------------------------------------------\n",
    "Checking invalid geometries\n",
    "------------------------------------------------------------------------------\n",
    "\"\"\"\n",
    "\n",
    "#Check the combined dataframe for empty or invalid geometries\n",
    "print(f\"Empty geometry in gdf_imbiss: {len(gdf_imbiss[gdf_imbiss.is_empty])}\")\n",
    "print(f\"Invalid in gdf_imbis: {len(gdf_imbiss[~gdf_imbiss.is_valid])}\")"
   ]
  },
  {
   "cell_type": "code",
   "execution_count": null,
   "metadata": {},
   "outputs": [],
   "source": [
    "\"\"\"\n",
    "------------------------------------------------------------------------------\n",
    "Functions\n",
    "- point geometry to square\n",
    "- fast food stalls per admin area, svg and geojson\n",
    "------------------------------------------------------------------------------\n",
    "\"\"\"\n",
    "import math\n",
    "\n",
    "def point_to_square(point, size=10):\n",
    "    #create a square around the points with a defined length\n",
    "    x, y = point.x, point.y\n",
    "    half_size = size / 2\n",
    "    return box(x - half_size, y - half_size, x + half_size, y + half_size)\n",
    "\n",
    "def generate_hexagon(point, size=10):\n",
    "    # Extract coordinates from the Point object\n",
    "    center_x, center_y = point.x, point.y\n",
    "    hexagon_points = []\n",
    "    \n",
    "    # Calculate the vertices of the hexagon\n",
    "    for i in range(6):\n",
    "        angle_deg = 60 * i\n",
    "        angle_rad = math.radians(angle_deg)\n",
    "        x = center_x + size * math.cos(angle_rad)\n",
    "        y = center_y + size * math.sin(angle_rad)\n",
    "        hexagon_points.append((x, y))\n",
    "    \n",
    "    # Return a Polygon created from the hexagon vertices\n",
    "    return Polygon(hexagon_points)\n",
    "\n",
    "\n",
    "def create_fastFoodGeom(admin_area, gdf_imbiss):\n",
    "\n",
    "    admin_geometry = admin_area.geometry\n",
    "    Prognoseraum = admin_area.get(\"pgr_name\").replace(\" \", \"_\").replace(\"/\", \"_\").replace(\";\", \"_\")\n",
    "\n",
    "    #check if geometry exists\n",
    "    if admin_geometry is None or admin_geometry.is_empty:\n",
    "        print(f\"Invalid geometry for {Prognoseraum}\")\n",
    "        return\n",
    "    \n",
    "    #Find intersections between the Imbiss GeoDataFrame and the admin area geometry\n",
    "    intersections_fastFood = gdf_imbiss[gdf_imbiss.intersects(admin_geometry)]\n",
    "\n",
    "    #Geo Data Frame for the admin area\n",
    "    gdf_admin = gpd.GeoDataFrame({\"geometry\": [admin_geometry]}, crs=gdf_imbiss.crs)\n",
    "\n",
    "    #Convert Imbiss points to squares\n",
    "    squares = intersections_fastFood.geometry.apply(lambda point: generate_hexagon(point, size=10))\n",
    "    \n",
    "    gdf_intersection_squares = gpd.GeoDataFrame(geometry=squares, crs=gdf_imbiss.crs)\n",
    "\n",
    "    #Plot admin area\n",
    "    fig, ax = plt.subplots(figsize=(30, 30))\n",
    "    gdf_admin.plot(ax=ax, color=\"lightgrey\")\n",
    "\n",
    "    #Plot Imbiss points within the admin area\n",
    "    if not gdf_intersection_squares.empty:\n",
    "        gdf_intersection_squares.plot(ax=ax, color=\"red\", alpha=0.7, edgecolor=\"black\", linewidth=0.5)\n",
    "\n",
    "    #add text\n",
    "    centroid = admin_geometry.centroid\n",
    "    ax.text(centroid.x, centroid.y, Prognoseraum, fontsize=12, ha=\"center\", va=\"center\")\n",
    "\n",
    "    #convert squares back to EPSG:4326\n",
    "    gdf_intersection_squares = gdf_intersection_squares.to_crs(epsg=4326)\n",
    "\n",
    "    #save squares as geojson\n",
    "    gdf_intersection_squares.to_file(f\"../maps/prognoseraum/{Prognoseraum}/{Prognoseraum}_imbiss.geojson\", driver=\"GeoJSON\")\n",
    "\n",
    "    #save fig as svg\n",
    "    # fig.savefig(f\"../maps/svg/{Prognoseraum}_imbiss.svg\", format=\"svg\")\n",
    "\n",
    "    # plt.show()\n",
    "    # plt.close(fig)\n",
    "\n",
    "       \n"
   ]
  },
  {
   "cell_type": "code",
   "execution_count": null,
   "metadata": {},
   "outputs": [],
   "source": [
    "#convert to ESPG:32633\n",
    "admin_areas = admin_areas.to_crs(epsg=32633) \n",
    "\n",
    "if gdf_imbiss.crs != admin_areas.crs:\n",
    "    gdf_imbiss = gdf_imbiss.to_crs(admin_areas.crs)\n",
    "\n",
    "print(admin_areas.crs)\n",
    "print(gdf_imbiss.crs)"
   ]
  },
  {
   "cell_type": "code",
   "execution_count": null,
   "metadata": {},
   "outputs": [],
   "source": [
    "result = admin_areas.apply(\n",
    "    lambda row: create_fastFoodGeom(row, gdf_imbiss), axis=1\n",
    ")"
   ]
  }
 ],
 "metadata": {
  "kernelspec": {
   "display_name": "Python 3",
   "language": "python",
   "name": "python3"
  },
  "language_info": {
   "codemirror_mode": {
    "name": "ipython",
    "version": 3
   },
   "file_extension": ".py",
   "mimetype": "text/x-python",
   "name": "python",
   "nbconvert_exporter": "python",
   "pygments_lexer": "ipython3",
   "version": "3.9.6"
  }
 },
 "nbformat": 4,
 "nbformat_minor": 2
}
